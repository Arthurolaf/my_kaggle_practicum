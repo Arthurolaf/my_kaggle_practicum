{
 "cells": [
  {
   "cell_type": "markdown",
   "metadata": {},
   "source": [
    "This is beginer level second exercise or task.\n",
    "_____\n",
    "\n",
    "\n",
    "#### condition: \n",
    "1) Make all Inspiration, now we must use more then one ML model.(above 2 or 4 if passable)\n",
    "2) Try to comply with PEP8\n",
    "\n",
    "#### Context\n",
    "Although this dataset was originally contributed to the UCI Machine Learning repository nearly 30 years ago, mushroom hunting (otherwise known as \"shrooming\") is enjoying new peaks in popularity. Learn which features spell certain death and which are most palatable in this dataset of mushroom characteristics. And how certain can your model be?\n",
    "\n",
    "#### GOAL:  \n",
    "* Classify iris plants into three species in this classic dataset\n",
    "\n",
    "#### Inspiration\n",
    "* What types of machine learning models perform best on this dataset?\n",
    "* Which features are most indicative of a poisonous mushroom?\n",
    "\n",
    "exercise source <a href> https://www.kaggle.com/datasets/uciml/mushroom-classification </a>\n",
    "\n",
    "_____\n"
   ]
  },
  {
   "cell_type": "markdown",
   "metadata": {},
   "source": [
    "import modules from first exercise.\n",
    "And will replenish as necessary"
   ]
  },
  {
   "cell_type": "code",
   "execution_count": 1,
   "metadata": {},
   "outputs": [],
   "source": [
    "import pandas as pd\n",
    "import numpy as np\n",
    "import plotly.express as px\n",
    "import matplotlib.pyplot as plt \n",
    "import seaborn as sns\n",
    "\n",
    "from sklearn.model_selection import train_test_split\n",
    "from sklearn.linear_model import RidgeClassifier\n",
    "from sklearn.metrics import accuracy_score\n",
    "from sklearn.metrics import f1_score\n",
    "from sklearn.metrics import classification_report\n",
    "from sklearn import preprocessing\n",
    "from sklearn.metrics import mean_absolute_percentage_error\n",
    "from sklearn.svm import SVC\n",
    "from sklearn.tree import DecisionTreeClassifier\n",
    "from sklearn.tree import plot_tree\n",
    "import category_encoders as ce \n",
    "\n",
    " "
   ]
  },
  {
   "cell_type": "markdown",
   "metadata": {},
   "source": [
    "### Getting to know the data\n",
    "\n",
    "####  harvested information (hint)\n",
    "\n",
    "Attribute Information\n",
    "\n",
    "classes: edible=e, poisonous=p\n",
    "\n",
    "cap-shape: bell=b,conical=c,convex=x,flat=f, knobbed=k,sunken=s\n",
    "cap-surface: fibrous=f,grooves=g,scaly=y,smooth=s\n",
    "cap-color: brown=n,buff=b,cinnamon=c,gray=g,green=r,pink=p,purple=u,red=e,white=w,yellow=y\n",
    "\n",
    "bruises: bruises=t,no=f\n",
    "\n",
    "odor: almond=a,anise=l,creosote=c,fishy=y,foul=f,musty=m,none=n,pungent=p,spicy=s\n",
    "\n",
    "gill-attachment: attached=a,descending=d,free=f,notched=n\n",
    "gill-spacing: close=c,crowded=w,distant=d\n",
    "gill-size: broad=b,narrow=n\n",
    "gill-color: black=k,brown=n,buff=b,chocolate=h,gray=g, green=r,orange=o,pink=p,purple=u,red=e,white=w,yellow=y\n",
    "\n",
    "stalk-shape: enlarging=e,tapering=t\n",
    "stalk-root: bulbous=b,club=c,cup=u,equal=e,rhizomorphs=z,rooted=r,missing=?\n",
    "stalk-surface-above-ring: fibrous=f,scaly=y,silky=k,smooth=s\n",
    "stalk-surface-below-ring: fibrous=f,scaly=y,silky=k,smooth=s\n",
    "stalk-color-above-ring: brown=n,buff=b,cinnamon=c,gray=g,orange=o,pink=p,red=e,white=w,yellow=y\n",
    "stalk-color-below-ring: brown=n,buff=b,cinnamon=c,gray=g,orange=o,pink=p,red=e,white=w,yellow=y\n",
    "\n",
    "veil-type: partial=p,universal=u\n",
    "veil-color: brown=n,orange=o,white=w,yellow=y\n",
    "\n",
    "ring-number: none=n,one=o,two=t\n",
    "ring-type: cobwebby=c,evanescent=e,flaring=f,large=l,none=n,pendant=p,sheathing=s,zone=z\n",
    "\n",
    "spore-print-color: black=k,brown=n,buff=b,chocolate=h,green=r,orange=o,purple=u,white=w,yellow=y\n",
    "\n",
    "population: abundant=a,clustered=c,numerous=n,scattered=s,several=v,solitary=y\n",
    "\n",
    "habitat: grasses=g,leaves=l,meadows=m,paths=p,urban=u,waste=w,woods=d\n",
    "\n",
    "* load data to DF \n",
    "* Show basic data about dataset, like features type, min/max/std values and other\n",
    "\n",
    "_Load data to df_original, copy that and work with copy_. it's good practice (work in self_save mode)."
   ]
  },
  {
   "cell_type": "code",
   "execution_count": 2,
   "metadata": {},
   "outputs": [],
   "source": [
    "df_original = pd.read_csv(\"data/mushrooms.csv\")\n",
    "df = df_original.copy()"
   ]
  },
  {
   "cell_type": "code",
   "execution_count": 3,
   "metadata": {},
   "outputs": [
    {
     "name": "stdout",
     "output_type": "stream",
     "text": [
      "<class 'pandas.core.frame.DataFrame'>\n",
      "RangeIndex: 8124 entries, 0 to 8123\n",
      "Data columns (total 23 columns):\n",
      " #   Column                    Non-Null Count  Dtype \n",
      "---  ------                    --------------  ----- \n",
      " 0   class                     8124 non-null   object\n",
      " 1   cap-shape                 8124 non-null   object\n",
      " 2   cap-surface               8124 non-null   object\n",
      " 3   cap-color                 8124 non-null   object\n",
      " 4   bruises                   8124 non-null   object\n",
      " 5   odor                      8124 non-null   object\n",
      " 6   gill-attachment           8124 non-null   object\n",
      " 7   gill-spacing              8124 non-null   object\n",
      " 8   gill-size                 8124 non-null   object\n",
      " 9   gill-color                8124 non-null   object\n",
      " 10  stalk-shape               8124 non-null   object\n",
      " 11  stalk-root                8124 non-null   object\n",
      " 12  stalk-surface-above-ring  8124 non-null   object\n",
      " 13  stalk-surface-below-ring  8124 non-null   object\n",
      " 14  stalk-color-above-ring    8124 non-null   object\n",
      " 15  stalk-color-below-ring    8124 non-null   object\n",
      " 16  veil-type                 8124 non-null   object\n",
      " 17  veil-color                8124 non-null   object\n",
      " 18  ring-number               8124 non-null   object\n",
      " 19  ring-type                 8124 non-null   object\n",
      " 20  spore-print-color         8124 non-null   object\n",
      " 21  population                8124 non-null   object\n",
      " 22  habitat                   8124 non-null   object\n",
      "dtypes: object(23)\n",
      "memory usage: 1.4+ MB\n"
     ]
    },
    {
     "data": {
      "text/plain": [
       "None"
      ]
     },
     "metadata": {},
     "output_type": "display_data"
    },
    {
     "data": {
      "text/html": [
       "<div>\n",
       "<style scoped>\n",
       "    .dataframe tbody tr th:only-of-type {\n",
       "        vertical-align: middle;\n",
       "    }\n",
       "\n",
       "    .dataframe tbody tr th {\n",
       "        vertical-align: top;\n",
       "    }\n",
       "\n",
       "    .dataframe thead th {\n",
       "        text-align: right;\n",
       "    }\n",
       "</style>\n",
       "<table border=\"1\" class=\"dataframe\">\n",
       "  <thead>\n",
       "    <tr style=\"text-align: right;\">\n",
       "      <th></th>\n",
       "      <th>class</th>\n",
       "      <th>cap-shape</th>\n",
       "      <th>cap-surface</th>\n",
       "      <th>cap-color</th>\n",
       "      <th>bruises</th>\n",
       "      <th>odor</th>\n",
       "      <th>gill-attachment</th>\n",
       "      <th>gill-spacing</th>\n",
       "      <th>gill-size</th>\n",
       "      <th>gill-color</th>\n",
       "      <th>...</th>\n",
       "      <th>stalk-surface-below-ring</th>\n",
       "      <th>stalk-color-above-ring</th>\n",
       "      <th>stalk-color-below-ring</th>\n",
       "      <th>veil-type</th>\n",
       "      <th>veil-color</th>\n",
       "      <th>ring-number</th>\n",
       "      <th>ring-type</th>\n",
       "      <th>spore-print-color</th>\n",
       "      <th>population</th>\n",
       "      <th>habitat</th>\n",
       "    </tr>\n",
       "  </thead>\n",
       "  <tbody>\n",
       "    <tr>\n",
       "      <th>count</th>\n",
       "      <td>8124</td>\n",
       "      <td>8124</td>\n",
       "      <td>8124</td>\n",
       "      <td>8124</td>\n",
       "      <td>8124</td>\n",
       "      <td>8124</td>\n",
       "      <td>8124</td>\n",
       "      <td>8124</td>\n",
       "      <td>8124</td>\n",
       "      <td>8124</td>\n",
       "      <td>...</td>\n",
       "      <td>8124</td>\n",
       "      <td>8124</td>\n",
       "      <td>8124</td>\n",
       "      <td>8124</td>\n",
       "      <td>8124</td>\n",
       "      <td>8124</td>\n",
       "      <td>8124</td>\n",
       "      <td>8124</td>\n",
       "      <td>8124</td>\n",
       "      <td>8124</td>\n",
       "    </tr>\n",
       "    <tr>\n",
       "      <th>unique</th>\n",
       "      <td>2</td>\n",
       "      <td>6</td>\n",
       "      <td>4</td>\n",
       "      <td>10</td>\n",
       "      <td>2</td>\n",
       "      <td>9</td>\n",
       "      <td>2</td>\n",
       "      <td>2</td>\n",
       "      <td>2</td>\n",
       "      <td>12</td>\n",
       "      <td>...</td>\n",
       "      <td>4</td>\n",
       "      <td>9</td>\n",
       "      <td>9</td>\n",
       "      <td>1</td>\n",
       "      <td>4</td>\n",
       "      <td>3</td>\n",
       "      <td>5</td>\n",
       "      <td>9</td>\n",
       "      <td>6</td>\n",
       "      <td>7</td>\n",
       "    </tr>\n",
       "    <tr>\n",
       "      <th>top</th>\n",
       "      <td>e</td>\n",
       "      <td>x</td>\n",
       "      <td>y</td>\n",
       "      <td>n</td>\n",
       "      <td>f</td>\n",
       "      <td>n</td>\n",
       "      <td>f</td>\n",
       "      <td>c</td>\n",
       "      <td>b</td>\n",
       "      <td>b</td>\n",
       "      <td>...</td>\n",
       "      <td>s</td>\n",
       "      <td>w</td>\n",
       "      <td>w</td>\n",
       "      <td>p</td>\n",
       "      <td>w</td>\n",
       "      <td>o</td>\n",
       "      <td>p</td>\n",
       "      <td>w</td>\n",
       "      <td>v</td>\n",
       "      <td>d</td>\n",
       "    </tr>\n",
       "    <tr>\n",
       "      <th>freq</th>\n",
       "      <td>4208</td>\n",
       "      <td>3656</td>\n",
       "      <td>3244</td>\n",
       "      <td>2284</td>\n",
       "      <td>4748</td>\n",
       "      <td>3528</td>\n",
       "      <td>7914</td>\n",
       "      <td>6812</td>\n",
       "      <td>5612</td>\n",
       "      <td>1728</td>\n",
       "      <td>...</td>\n",
       "      <td>4936</td>\n",
       "      <td>4464</td>\n",
       "      <td>4384</td>\n",
       "      <td>8124</td>\n",
       "      <td>7924</td>\n",
       "      <td>7488</td>\n",
       "      <td>3968</td>\n",
       "      <td>2388</td>\n",
       "      <td>4040</td>\n",
       "      <td>3148</td>\n",
       "    </tr>\n",
       "  </tbody>\n",
       "</table>\n",
       "<p>4 rows × 23 columns</p>\n",
       "</div>"
      ],
      "text/plain": [
       "       class cap-shape cap-surface cap-color bruises  odor gill-attachment  \\\n",
       "count   8124      8124        8124      8124    8124  8124            8124   \n",
       "unique     2         6           4        10       2     9               2   \n",
       "top        e         x           y         n       f     n               f   \n",
       "freq    4208      3656        3244      2284    4748  3528            7914   \n",
       "\n",
       "       gill-spacing gill-size gill-color  ... stalk-surface-below-ring  \\\n",
       "count          8124      8124       8124  ...                     8124   \n",
       "unique            2         2         12  ...                        4   \n",
       "top               c         b          b  ...                        s   \n",
       "freq           6812      5612       1728  ...                     4936   \n",
       "\n",
       "       stalk-color-above-ring stalk-color-below-ring veil-type veil-color  \\\n",
       "count                    8124                   8124      8124       8124   \n",
       "unique                      9                      9         1          4   \n",
       "top                         w                      w         p          w   \n",
       "freq                     4464                   4384      8124       7924   \n",
       "\n",
       "       ring-number ring-type spore-print-color population habitat  \n",
       "count         8124      8124              8124       8124    8124  \n",
       "unique           3         5                 9          6       7  \n",
       "top              o         p                 w          v       d  \n",
       "freq          7488      3968              2388       4040    3148  \n",
       "\n",
       "[4 rows x 23 columns]"
      ]
     },
     "metadata": {},
     "output_type": "display_data"
    }
   ],
   "source": [
    "display(df.info())\n",
    "display(df.describe())"
   ]
  },
  {
   "cell_type": "markdown",
   "metadata": {},
   "source": [
    "Very intresting dataset.\n",
    "As i see, there are lot of feature in it.\n",
    "\n",
    "but same features we cat remove right now. \n",
    "\"veil-type\" has only one value in all dataset, it's not usable\n",
    "\n",
    "Now we realy must now correlation of features (may be we can reduce the dimension of dataset)\n",
    "\n",
    "will see\n",
    "\n",
    "First of all need to encode data to see correlation.\n",
    "\n",
    "\n",
    "Since we only have literal values, we can do it in two ways.\n",
    "The first is to code simply by assigning a number to each letter where unique values counts > 2.\n",
    "\n",
    "But you can code it using standard means so that subclasses are created.\n",
    "\n",
    "Let's try both methods and see the results"
   ]
  },
  {
   "cell_type": "code",
   "execution_count": 4,
   "metadata": {},
   "outputs": [],
   "source": [
    "df = df.drop(\"veil-type\", axis=1)"
   ]
  },
  {
   "cell_type": "code",
   "execution_count": 5,
   "metadata": {},
   "outputs": [
    {
     "data": {
      "text/html": [
       "<div>\n",
       "<style scoped>\n",
       "    .dataframe tbody tr th:only-of-type {\n",
       "        vertical-align: middle;\n",
       "    }\n",
       "\n",
       "    .dataframe tbody tr th {\n",
       "        vertical-align: top;\n",
       "    }\n",
       "\n",
       "    .dataframe thead th {\n",
       "        text-align: right;\n",
       "    }\n",
       "</style>\n",
       "<table border=\"1\" class=\"dataframe\">\n",
       "  <thead>\n",
       "    <tr style=\"text-align: right;\">\n",
       "      <th></th>\n",
       "      <th>class</th>\n",
       "      <th>cap-shape</th>\n",
       "      <th>cap-surface</th>\n",
       "      <th>cap-color</th>\n",
       "      <th>bruises</th>\n",
       "      <th>odor</th>\n",
       "      <th>gill-attachment</th>\n",
       "      <th>gill-spacing</th>\n",
       "      <th>gill-size</th>\n",
       "      <th>gill-color</th>\n",
       "      <th>...</th>\n",
       "      <th>stalk-surface-above-ring</th>\n",
       "      <th>stalk-surface-below-ring</th>\n",
       "      <th>stalk-color-above-ring</th>\n",
       "      <th>stalk-color-below-ring</th>\n",
       "      <th>veil-color</th>\n",
       "      <th>ring-number</th>\n",
       "      <th>ring-type</th>\n",
       "      <th>spore-print-color</th>\n",
       "      <th>population</th>\n",
       "      <th>habitat</th>\n",
       "    </tr>\n",
       "  </thead>\n",
       "  <tbody>\n",
       "    <tr>\n",
       "      <th>0</th>\n",
       "      <td>p</td>\n",
       "      <td>x</td>\n",
       "      <td>s</td>\n",
       "      <td>n</td>\n",
       "      <td>t</td>\n",
       "      <td>p</td>\n",
       "      <td>f</td>\n",
       "      <td>c</td>\n",
       "      <td>n</td>\n",
       "      <td>k</td>\n",
       "      <td>...</td>\n",
       "      <td>s</td>\n",
       "      <td>s</td>\n",
       "      <td>w</td>\n",
       "      <td>w</td>\n",
       "      <td>w</td>\n",
       "      <td>o</td>\n",
       "      <td>p</td>\n",
       "      <td>k</td>\n",
       "      <td>s</td>\n",
       "      <td>u</td>\n",
       "    </tr>\n",
       "    <tr>\n",
       "      <th>1</th>\n",
       "      <td>e</td>\n",
       "      <td>x</td>\n",
       "      <td>s</td>\n",
       "      <td>y</td>\n",
       "      <td>t</td>\n",
       "      <td>a</td>\n",
       "      <td>f</td>\n",
       "      <td>c</td>\n",
       "      <td>b</td>\n",
       "      <td>k</td>\n",
       "      <td>...</td>\n",
       "      <td>s</td>\n",
       "      <td>s</td>\n",
       "      <td>w</td>\n",
       "      <td>w</td>\n",
       "      <td>w</td>\n",
       "      <td>o</td>\n",
       "      <td>p</td>\n",
       "      <td>n</td>\n",
       "      <td>n</td>\n",
       "      <td>g</td>\n",
       "    </tr>\n",
       "    <tr>\n",
       "      <th>2</th>\n",
       "      <td>e</td>\n",
       "      <td>b</td>\n",
       "      <td>s</td>\n",
       "      <td>w</td>\n",
       "      <td>t</td>\n",
       "      <td>l</td>\n",
       "      <td>f</td>\n",
       "      <td>c</td>\n",
       "      <td>b</td>\n",
       "      <td>n</td>\n",
       "      <td>...</td>\n",
       "      <td>s</td>\n",
       "      <td>s</td>\n",
       "      <td>w</td>\n",
       "      <td>w</td>\n",
       "      <td>w</td>\n",
       "      <td>o</td>\n",
       "      <td>p</td>\n",
       "      <td>n</td>\n",
       "      <td>n</td>\n",
       "      <td>m</td>\n",
       "    </tr>\n",
       "    <tr>\n",
       "      <th>3</th>\n",
       "      <td>p</td>\n",
       "      <td>x</td>\n",
       "      <td>y</td>\n",
       "      <td>w</td>\n",
       "      <td>t</td>\n",
       "      <td>p</td>\n",
       "      <td>f</td>\n",
       "      <td>c</td>\n",
       "      <td>n</td>\n",
       "      <td>n</td>\n",
       "      <td>...</td>\n",
       "      <td>s</td>\n",
       "      <td>s</td>\n",
       "      <td>w</td>\n",
       "      <td>w</td>\n",
       "      <td>w</td>\n",
       "      <td>o</td>\n",
       "      <td>p</td>\n",
       "      <td>k</td>\n",
       "      <td>s</td>\n",
       "      <td>u</td>\n",
       "    </tr>\n",
       "    <tr>\n",
       "      <th>4</th>\n",
       "      <td>e</td>\n",
       "      <td>x</td>\n",
       "      <td>s</td>\n",
       "      <td>g</td>\n",
       "      <td>f</td>\n",
       "      <td>n</td>\n",
       "      <td>f</td>\n",
       "      <td>w</td>\n",
       "      <td>b</td>\n",
       "      <td>k</td>\n",
       "      <td>...</td>\n",
       "      <td>s</td>\n",
       "      <td>s</td>\n",
       "      <td>w</td>\n",
       "      <td>w</td>\n",
       "      <td>w</td>\n",
       "      <td>o</td>\n",
       "      <td>e</td>\n",
       "      <td>n</td>\n",
       "      <td>a</td>\n",
       "      <td>g</td>\n",
       "    </tr>\n",
       "    <tr>\n",
       "      <th>...</th>\n",
       "      <td>...</td>\n",
       "      <td>...</td>\n",
       "      <td>...</td>\n",
       "      <td>...</td>\n",
       "      <td>...</td>\n",
       "      <td>...</td>\n",
       "      <td>...</td>\n",
       "      <td>...</td>\n",
       "      <td>...</td>\n",
       "      <td>...</td>\n",
       "      <td>...</td>\n",
       "      <td>...</td>\n",
       "      <td>...</td>\n",
       "      <td>...</td>\n",
       "      <td>...</td>\n",
       "      <td>...</td>\n",
       "      <td>...</td>\n",
       "      <td>...</td>\n",
       "      <td>...</td>\n",
       "      <td>...</td>\n",
       "      <td>...</td>\n",
       "    </tr>\n",
       "    <tr>\n",
       "      <th>8119</th>\n",
       "      <td>e</td>\n",
       "      <td>k</td>\n",
       "      <td>s</td>\n",
       "      <td>n</td>\n",
       "      <td>f</td>\n",
       "      <td>n</td>\n",
       "      <td>a</td>\n",
       "      <td>c</td>\n",
       "      <td>b</td>\n",
       "      <td>y</td>\n",
       "      <td>...</td>\n",
       "      <td>s</td>\n",
       "      <td>s</td>\n",
       "      <td>o</td>\n",
       "      <td>o</td>\n",
       "      <td>o</td>\n",
       "      <td>o</td>\n",
       "      <td>p</td>\n",
       "      <td>b</td>\n",
       "      <td>c</td>\n",
       "      <td>l</td>\n",
       "    </tr>\n",
       "    <tr>\n",
       "      <th>8120</th>\n",
       "      <td>e</td>\n",
       "      <td>x</td>\n",
       "      <td>s</td>\n",
       "      <td>n</td>\n",
       "      <td>f</td>\n",
       "      <td>n</td>\n",
       "      <td>a</td>\n",
       "      <td>c</td>\n",
       "      <td>b</td>\n",
       "      <td>y</td>\n",
       "      <td>...</td>\n",
       "      <td>s</td>\n",
       "      <td>s</td>\n",
       "      <td>o</td>\n",
       "      <td>o</td>\n",
       "      <td>n</td>\n",
       "      <td>o</td>\n",
       "      <td>p</td>\n",
       "      <td>b</td>\n",
       "      <td>v</td>\n",
       "      <td>l</td>\n",
       "    </tr>\n",
       "    <tr>\n",
       "      <th>8121</th>\n",
       "      <td>e</td>\n",
       "      <td>f</td>\n",
       "      <td>s</td>\n",
       "      <td>n</td>\n",
       "      <td>f</td>\n",
       "      <td>n</td>\n",
       "      <td>a</td>\n",
       "      <td>c</td>\n",
       "      <td>b</td>\n",
       "      <td>n</td>\n",
       "      <td>...</td>\n",
       "      <td>s</td>\n",
       "      <td>s</td>\n",
       "      <td>o</td>\n",
       "      <td>o</td>\n",
       "      <td>o</td>\n",
       "      <td>o</td>\n",
       "      <td>p</td>\n",
       "      <td>b</td>\n",
       "      <td>c</td>\n",
       "      <td>l</td>\n",
       "    </tr>\n",
       "    <tr>\n",
       "      <th>8122</th>\n",
       "      <td>p</td>\n",
       "      <td>k</td>\n",
       "      <td>y</td>\n",
       "      <td>n</td>\n",
       "      <td>f</td>\n",
       "      <td>y</td>\n",
       "      <td>f</td>\n",
       "      <td>c</td>\n",
       "      <td>n</td>\n",
       "      <td>b</td>\n",
       "      <td>...</td>\n",
       "      <td>s</td>\n",
       "      <td>k</td>\n",
       "      <td>w</td>\n",
       "      <td>w</td>\n",
       "      <td>w</td>\n",
       "      <td>o</td>\n",
       "      <td>e</td>\n",
       "      <td>w</td>\n",
       "      <td>v</td>\n",
       "      <td>l</td>\n",
       "    </tr>\n",
       "    <tr>\n",
       "      <th>8123</th>\n",
       "      <td>e</td>\n",
       "      <td>x</td>\n",
       "      <td>s</td>\n",
       "      <td>n</td>\n",
       "      <td>f</td>\n",
       "      <td>n</td>\n",
       "      <td>a</td>\n",
       "      <td>c</td>\n",
       "      <td>b</td>\n",
       "      <td>y</td>\n",
       "      <td>...</td>\n",
       "      <td>s</td>\n",
       "      <td>s</td>\n",
       "      <td>o</td>\n",
       "      <td>o</td>\n",
       "      <td>o</td>\n",
       "      <td>o</td>\n",
       "      <td>p</td>\n",
       "      <td>o</td>\n",
       "      <td>c</td>\n",
       "      <td>l</td>\n",
       "    </tr>\n",
       "  </tbody>\n",
       "</table>\n",
       "<p>8124 rows × 22 columns</p>\n",
       "</div>"
      ],
      "text/plain": [
       "     class cap-shape cap-surface cap-color bruises odor gill-attachment  \\\n",
       "0        p         x           s         n       t    p               f   \n",
       "1        e         x           s         y       t    a               f   \n",
       "2        e         b           s         w       t    l               f   \n",
       "3        p         x           y         w       t    p               f   \n",
       "4        e         x           s         g       f    n               f   \n",
       "...    ...       ...         ...       ...     ...  ...             ...   \n",
       "8119     e         k           s         n       f    n               a   \n",
       "8120     e         x           s         n       f    n               a   \n",
       "8121     e         f           s         n       f    n               a   \n",
       "8122     p         k           y         n       f    y               f   \n",
       "8123     e         x           s         n       f    n               a   \n",
       "\n",
       "     gill-spacing gill-size gill-color  ... stalk-surface-above-ring  \\\n",
       "0               c         n          k  ...                        s   \n",
       "1               c         b          k  ...                        s   \n",
       "2               c         b          n  ...                        s   \n",
       "3               c         n          n  ...                        s   \n",
       "4               w         b          k  ...                        s   \n",
       "...           ...       ...        ...  ...                      ...   \n",
       "8119            c         b          y  ...                        s   \n",
       "8120            c         b          y  ...                        s   \n",
       "8121            c         b          n  ...                        s   \n",
       "8122            c         n          b  ...                        s   \n",
       "8123            c         b          y  ...                        s   \n",
       "\n",
       "     stalk-surface-below-ring stalk-color-above-ring stalk-color-below-ring  \\\n",
       "0                           s                      w                      w   \n",
       "1                           s                      w                      w   \n",
       "2                           s                      w                      w   \n",
       "3                           s                      w                      w   \n",
       "4                           s                      w                      w   \n",
       "...                       ...                    ...                    ...   \n",
       "8119                        s                      o                      o   \n",
       "8120                        s                      o                      o   \n",
       "8121                        s                      o                      o   \n",
       "8122                        k                      w                      w   \n",
       "8123                        s                      o                      o   \n",
       "\n",
       "     veil-color ring-number ring-type spore-print-color population habitat  \n",
       "0             w           o         p                 k          s       u  \n",
       "1             w           o         p                 n          n       g  \n",
       "2             w           o         p                 n          n       m  \n",
       "3             w           o         p                 k          s       u  \n",
       "4             w           o         e                 n          a       g  \n",
       "...         ...         ...       ...               ...        ...     ...  \n",
       "8119          o           o         p                 b          c       l  \n",
       "8120          n           o         p                 b          v       l  \n",
       "8121          o           o         p                 b          c       l  \n",
       "8122          w           o         e                 w          v       l  \n",
       "8123          o           o         p                 o          c       l  \n",
       "\n",
       "[8124 rows x 22 columns]"
      ]
     },
     "execution_count": 5,
     "metadata": {},
     "output_type": "execute_result"
    }
   ],
   "source": [
    "df"
   ]
  },
  {
   "cell_type": "markdown",
   "metadata": {},
   "source": [
    "### Method #1\n"
   ]
  },
  {
   "cell_type": "code",
   "execution_count": 6,
   "metadata": {},
   "outputs": [
    {
     "data": {
      "text/html": [
       "<div>\n",
       "<style scoped>\n",
       "    .dataframe tbody tr th:only-of-type {\n",
       "        vertical-align: middle;\n",
       "    }\n",
       "\n",
       "    .dataframe tbody tr th {\n",
       "        vertical-align: top;\n",
       "    }\n",
       "\n",
       "    .dataframe thead th {\n",
       "        text-align: right;\n",
       "    }\n",
       "</style>\n",
       "<table border=\"1\" class=\"dataframe\">\n",
       "  <thead>\n",
       "    <tr style=\"text-align: right;\">\n",
       "      <th></th>\n",
       "      <th>class</th>\n",
       "      <th>cap-shape</th>\n",
       "      <th>cap-surface</th>\n",
       "      <th>cap-color</th>\n",
       "      <th>bruises</th>\n",
       "      <th>odor</th>\n",
       "      <th>gill-attachment</th>\n",
       "      <th>gill-spacing</th>\n",
       "      <th>gill-size</th>\n",
       "      <th>gill-color</th>\n",
       "      <th>...</th>\n",
       "      <th>stalk-surface-above-ring</th>\n",
       "      <th>stalk-surface-below-ring</th>\n",
       "      <th>stalk-color-above-ring</th>\n",
       "      <th>stalk-color-below-ring</th>\n",
       "      <th>veil-color</th>\n",
       "      <th>ring-number</th>\n",
       "      <th>ring-type</th>\n",
       "      <th>spore-print-color</th>\n",
       "      <th>population</th>\n",
       "      <th>habitat</th>\n",
       "    </tr>\n",
       "  </thead>\n",
       "  <tbody>\n",
       "    <tr>\n",
       "      <th>0</th>\n",
       "      <td>p</td>\n",
       "      <td>0</td>\n",
       "      <td>19</td>\n",
       "      <td>14</td>\n",
       "      <td>t</td>\n",
       "      <td>16</td>\n",
       "      <td>f</td>\n",
       "      <td>c</td>\n",
       "      <td>n</td>\n",
       "      <td>11</td>\n",
       "      <td>...</td>\n",
       "      <td>19</td>\n",
       "      <td>19</td>\n",
       "      <td>23</td>\n",
       "      <td>23</td>\n",
       "      <td>23</td>\n",
       "      <td>15</td>\n",
       "      <td>16</td>\n",
       "      <td>11</td>\n",
       "      <td>19</td>\n",
       "      <td>21</td>\n",
       "    </tr>\n",
       "    <tr>\n",
       "      <th>1</th>\n",
       "      <td>e</td>\n",
       "      <td>0</td>\n",
       "      <td>19</td>\n",
       "      <td>0</td>\n",
       "      <td>t</td>\n",
       "      <td>1</td>\n",
       "      <td>f</td>\n",
       "      <td>c</td>\n",
       "      <td>b</td>\n",
       "      <td>11</td>\n",
       "      <td>...</td>\n",
       "      <td>19</td>\n",
       "      <td>19</td>\n",
       "      <td>23</td>\n",
       "      <td>23</td>\n",
       "      <td>23</td>\n",
       "      <td>15</td>\n",
       "      <td>16</td>\n",
       "      <td>14</td>\n",
       "      <td>14</td>\n",
       "      <td>10</td>\n",
       "    </tr>\n",
       "    <tr>\n",
       "      <th>2</th>\n",
       "      <td>e</td>\n",
       "      <td>2</td>\n",
       "      <td>19</td>\n",
       "      <td>23</td>\n",
       "      <td>t</td>\n",
       "      <td>12</td>\n",
       "      <td>f</td>\n",
       "      <td>c</td>\n",
       "      <td>b</td>\n",
       "      <td>14</td>\n",
       "      <td>...</td>\n",
       "      <td>19</td>\n",
       "      <td>19</td>\n",
       "      <td>23</td>\n",
       "      <td>23</td>\n",
       "      <td>23</td>\n",
       "      <td>15</td>\n",
       "      <td>16</td>\n",
       "      <td>14</td>\n",
       "      <td>14</td>\n",
       "      <td>13</td>\n",
       "    </tr>\n",
       "    <tr>\n",
       "      <th>3</th>\n",
       "      <td>p</td>\n",
       "      <td>0</td>\n",
       "      <td>0</td>\n",
       "      <td>23</td>\n",
       "      <td>t</td>\n",
       "      <td>16</td>\n",
       "      <td>f</td>\n",
       "      <td>c</td>\n",
       "      <td>n</td>\n",
       "      <td>14</td>\n",
       "      <td>...</td>\n",
       "      <td>19</td>\n",
       "      <td>19</td>\n",
       "      <td>23</td>\n",
       "      <td>23</td>\n",
       "      <td>23</td>\n",
       "      <td>15</td>\n",
       "      <td>16</td>\n",
       "      <td>11</td>\n",
       "      <td>19</td>\n",
       "      <td>21</td>\n",
       "    </tr>\n",
       "    <tr>\n",
       "      <th>4</th>\n",
       "      <td>e</td>\n",
       "      <td>0</td>\n",
       "      <td>19</td>\n",
       "      <td>10</td>\n",
       "      <td>f</td>\n",
       "      <td>14</td>\n",
       "      <td>f</td>\n",
       "      <td>w</td>\n",
       "      <td>b</td>\n",
       "      <td>11</td>\n",
       "      <td>...</td>\n",
       "      <td>19</td>\n",
       "      <td>19</td>\n",
       "      <td>23</td>\n",
       "      <td>23</td>\n",
       "      <td>23</td>\n",
       "      <td>15</td>\n",
       "      <td>5</td>\n",
       "      <td>14</td>\n",
       "      <td>1</td>\n",
       "      <td>10</td>\n",
       "    </tr>\n",
       "    <tr>\n",
       "      <th>...</th>\n",
       "      <td>...</td>\n",
       "      <td>...</td>\n",
       "      <td>...</td>\n",
       "      <td>...</td>\n",
       "      <td>...</td>\n",
       "      <td>...</td>\n",
       "      <td>...</td>\n",
       "      <td>...</td>\n",
       "      <td>...</td>\n",
       "      <td>...</td>\n",
       "      <td>...</td>\n",
       "      <td>...</td>\n",
       "      <td>...</td>\n",
       "      <td>...</td>\n",
       "      <td>...</td>\n",
       "      <td>...</td>\n",
       "      <td>...</td>\n",
       "      <td>...</td>\n",
       "      <td>...</td>\n",
       "      <td>...</td>\n",
       "      <td>...</td>\n",
       "    </tr>\n",
       "    <tr>\n",
       "      <th>8119</th>\n",
       "      <td>e</td>\n",
       "      <td>11</td>\n",
       "      <td>19</td>\n",
       "      <td>14</td>\n",
       "      <td>f</td>\n",
       "      <td>14</td>\n",
       "      <td>a</td>\n",
       "      <td>c</td>\n",
       "      <td>b</td>\n",
       "      <td>0</td>\n",
       "      <td>...</td>\n",
       "      <td>19</td>\n",
       "      <td>19</td>\n",
       "      <td>15</td>\n",
       "      <td>15</td>\n",
       "      <td>15</td>\n",
       "      <td>15</td>\n",
       "      <td>16</td>\n",
       "      <td>2</td>\n",
       "      <td>3</td>\n",
       "      <td>12</td>\n",
       "    </tr>\n",
       "    <tr>\n",
       "      <th>8120</th>\n",
       "      <td>e</td>\n",
       "      <td>0</td>\n",
       "      <td>19</td>\n",
       "      <td>14</td>\n",
       "      <td>f</td>\n",
       "      <td>14</td>\n",
       "      <td>a</td>\n",
       "      <td>c</td>\n",
       "      <td>b</td>\n",
       "      <td>0</td>\n",
       "      <td>...</td>\n",
       "      <td>19</td>\n",
       "      <td>19</td>\n",
       "      <td>15</td>\n",
       "      <td>15</td>\n",
       "      <td>14</td>\n",
       "      <td>15</td>\n",
       "      <td>16</td>\n",
       "      <td>2</td>\n",
       "      <td>22</td>\n",
       "      <td>12</td>\n",
       "    </tr>\n",
       "    <tr>\n",
       "      <th>8121</th>\n",
       "      <td>e</td>\n",
       "      <td>6</td>\n",
       "      <td>19</td>\n",
       "      <td>14</td>\n",
       "      <td>f</td>\n",
       "      <td>14</td>\n",
       "      <td>a</td>\n",
       "      <td>c</td>\n",
       "      <td>b</td>\n",
       "      <td>14</td>\n",
       "      <td>...</td>\n",
       "      <td>19</td>\n",
       "      <td>19</td>\n",
       "      <td>15</td>\n",
       "      <td>15</td>\n",
       "      <td>15</td>\n",
       "      <td>15</td>\n",
       "      <td>16</td>\n",
       "      <td>2</td>\n",
       "      <td>3</td>\n",
       "      <td>12</td>\n",
       "    </tr>\n",
       "    <tr>\n",
       "      <th>8122</th>\n",
       "      <td>p</td>\n",
       "      <td>11</td>\n",
       "      <td>0</td>\n",
       "      <td>14</td>\n",
       "      <td>f</td>\n",
       "      <td>0</td>\n",
       "      <td>f</td>\n",
       "      <td>c</td>\n",
       "      <td>n</td>\n",
       "      <td>2</td>\n",
       "      <td>...</td>\n",
       "      <td>19</td>\n",
       "      <td>11</td>\n",
       "      <td>23</td>\n",
       "      <td>23</td>\n",
       "      <td>23</td>\n",
       "      <td>15</td>\n",
       "      <td>5</td>\n",
       "      <td>23</td>\n",
       "      <td>22</td>\n",
       "      <td>12</td>\n",
       "    </tr>\n",
       "    <tr>\n",
       "      <th>8123</th>\n",
       "      <td>e</td>\n",
       "      <td>0</td>\n",
       "      <td>19</td>\n",
       "      <td>14</td>\n",
       "      <td>f</td>\n",
       "      <td>14</td>\n",
       "      <td>a</td>\n",
       "      <td>c</td>\n",
       "      <td>b</td>\n",
       "      <td>0</td>\n",
       "      <td>...</td>\n",
       "      <td>19</td>\n",
       "      <td>19</td>\n",
       "      <td>15</td>\n",
       "      <td>15</td>\n",
       "      <td>15</td>\n",
       "      <td>15</td>\n",
       "      <td>16</td>\n",
       "      <td>15</td>\n",
       "      <td>3</td>\n",
       "      <td>12</td>\n",
       "    </tr>\n",
       "  </tbody>\n",
       "</table>\n",
       "<p>8124 rows × 22 columns</p>\n",
       "</div>"
      ],
      "text/plain": [
       "     class  cap-shape  cap-surface  cap-color bruises  odor gill-attachment  \\\n",
       "0        p          0           19         14       t    16               f   \n",
       "1        e          0           19          0       t     1               f   \n",
       "2        e          2           19         23       t    12               f   \n",
       "3        p          0            0         23       t    16               f   \n",
       "4        e          0           19         10       f    14               f   \n",
       "...    ...        ...          ...        ...     ...   ...             ...   \n",
       "8119     e         11           19         14       f    14               a   \n",
       "8120     e          0           19         14       f    14               a   \n",
       "8121     e          6           19         14       f    14               a   \n",
       "8122     p         11            0         14       f     0               f   \n",
       "8123     e          0           19         14       f    14               a   \n",
       "\n",
       "     gill-spacing gill-size  gill-color  ... stalk-surface-above-ring  \\\n",
       "0               c         n          11  ...                       19   \n",
       "1               c         b          11  ...                       19   \n",
       "2               c         b          14  ...                       19   \n",
       "3               c         n          14  ...                       19   \n",
       "4               w         b          11  ...                       19   \n",
       "...           ...       ...         ...  ...                      ...   \n",
       "8119            c         b           0  ...                       19   \n",
       "8120            c         b           0  ...                       19   \n",
       "8121            c         b          14  ...                       19   \n",
       "8122            c         n           2  ...                       19   \n",
       "8123            c         b           0  ...                       19   \n",
       "\n",
       "      stalk-surface-below-ring  stalk-color-above-ring  \\\n",
       "0                           19                      23   \n",
       "1                           19                      23   \n",
       "2                           19                      23   \n",
       "3                           19                      23   \n",
       "4                           19                      23   \n",
       "...                        ...                     ...   \n",
       "8119                        19                      15   \n",
       "8120                        19                      15   \n",
       "8121                        19                      15   \n",
       "8122                        11                      23   \n",
       "8123                        19                      15   \n",
       "\n",
       "      stalk-color-below-ring  veil-color  ring-number  ring-type  \\\n",
       "0                         23          23           15         16   \n",
       "1                         23          23           15         16   \n",
       "2                         23          23           15         16   \n",
       "3                         23          23           15         16   \n",
       "4                         23          23           15          5   \n",
       "...                      ...         ...          ...        ...   \n",
       "8119                      15          15           15         16   \n",
       "8120                      15          14           15         16   \n",
       "8121                      15          15           15         16   \n",
       "8122                      23          23           15          5   \n",
       "8123                      15          15           15         16   \n",
       "\n",
       "      spore-print-color  population  habitat  \n",
       "0                    11          19       21  \n",
       "1                    14          14       10  \n",
       "2                    14          14       13  \n",
       "3                    11          19       21  \n",
       "4                    14           1       10  \n",
       "...                 ...         ...      ...  \n",
       "8119                  2           3       12  \n",
       "8120                  2          22       12  \n",
       "8121                  2           3       12  \n",
       "8122                 23          22       12  \n",
       "8123                 15           3       12  \n",
       "\n",
       "[8124 rows x 22 columns]"
      ]
     },
     "execution_count": 6,
     "metadata": {},
     "output_type": "execute_result"
    }
   ],
   "source": [
    "df \n",
    "def literal_to_number(x):\n",
    "    result = 0\n",
    "    \"\"\" Self-writed encoder function code literal by number from alphabet (may be not good practic). first literal is 1\"\"\"\n",
    "    alphabet = [\"a\",\"b\",\"c\",\"d\",\"e\",\"f\",\"g\",\"h\",\"i\",\"g\",\"k\",\"l\",\"m\",\"n\",\"o\",\"p\",\"q\",\"r\",\"s\",\"t\",\"u\",\"v\",\"w\",\"z\"]\n",
    "    for i in range(0,len(alphabet)):\n",
    "        if alphabet[i] in x:\n",
    "            result = i + 1\n",
    "        else:\n",
    "            continue\n",
    "\n",
    "    return result\n",
    "\n",
    "# filter colums where unique counts > 2\n",
    "clms_to_encode = list(df.describe().loc[\"unique\"][df.describe().loc[\"unique\"] > 2].index)\n",
    "\n",
    "clms_to_encode\n",
    "for feature in clms_to_encode:\n",
    "    df[feature] = df[feature].apply(literal_to_number)\n",
    "df"
   ]
  },
  {
   "cell_type": "markdown",
   "metadata": {},
   "source": [
    "Now take features where unique values counts < 2. And we will use  OrdinalEncoder \n",
    "\n",
    "And  import category_encoders "
   ]
  },
  {
   "cell_type": "code",
   "execution_count": 7,
   "metadata": {},
   "outputs": [],
   "source": [
    "clms_binary_encode = list(df.describe(include=[object]).loc[\"unique\"][df.describe(include=[object]).loc[\"unique\"] <= 2].index)\n"
   ]
  },
  {
   "cell_type": "code",
   "execution_count": 8,
   "metadata": {},
   "outputs": [
    {
     "data": {
      "text/plain": [
       "['class',\n",
       " 'bruises',\n",
       " 'gill-attachment',\n",
       " 'gill-spacing',\n",
       " 'gill-size',\n",
       " 'stalk-shape']"
      ]
     },
     "execution_count": 8,
     "metadata": {},
     "output_type": "execute_result"
    }
   ],
   "source": [
    "clms_binary_encode"
   ]
  },
  {
   "cell_type": "code",
   "execution_count": 9,
   "metadata": {},
   "outputs": [],
   "source": [
    "for element in clms_binary_encode:\n",
    "    bin_encoder = ce.OrdinalEncoder(cols=[element]) # указываем столбец для кодирования\n",
    "    type_bin = bin_encoder.fit_transform(df[element])\n",
    "    df = df.drop(element, axis=1)\n",
    "    df = pd.concat([df, type_bin], axis=1)\n",
    "\n",
    " "
   ]
  },
  {
   "cell_type": "code",
   "execution_count": 10,
   "metadata": {},
   "outputs": [
    {
     "data": {
      "text/html": [
       "<div>\n",
       "<style scoped>\n",
       "    .dataframe tbody tr th:only-of-type {\n",
       "        vertical-align: middle;\n",
       "    }\n",
       "\n",
       "    .dataframe tbody tr th {\n",
       "        vertical-align: top;\n",
       "    }\n",
       "\n",
       "    .dataframe thead th {\n",
       "        text-align: right;\n",
       "    }\n",
       "</style>\n",
       "<table border=\"1\" class=\"dataframe\">\n",
       "  <thead>\n",
       "    <tr style=\"text-align: right;\">\n",
       "      <th></th>\n",
       "      <th>cap-shape</th>\n",
       "      <th>cap-surface</th>\n",
       "      <th>cap-color</th>\n",
       "      <th>odor</th>\n",
       "      <th>gill-color</th>\n",
       "      <th>stalk-root</th>\n",
       "      <th>stalk-surface-above-ring</th>\n",
       "      <th>stalk-surface-below-ring</th>\n",
       "      <th>stalk-color-above-ring</th>\n",
       "      <th>stalk-color-below-ring</th>\n",
       "      <th>...</th>\n",
       "      <th>ring-type</th>\n",
       "      <th>spore-print-color</th>\n",
       "      <th>population</th>\n",
       "      <th>habitat</th>\n",
       "      <th>class</th>\n",
       "      <th>bruises</th>\n",
       "      <th>gill-attachment</th>\n",
       "      <th>gill-spacing</th>\n",
       "      <th>gill-size</th>\n",
       "      <th>stalk-shape</th>\n",
       "    </tr>\n",
       "  </thead>\n",
       "  <tbody>\n",
       "    <tr>\n",
       "      <th>0</th>\n",
       "      <td>0</td>\n",
       "      <td>19</td>\n",
       "      <td>14</td>\n",
       "      <td>16</td>\n",
       "      <td>11</td>\n",
       "      <td>5</td>\n",
       "      <td>19</td>\n",
       "      <td>19</td>\n",
       "      <td>23</td>\n",
       "      <td>23</td>\n",
       "      <td>...</td>\n",
       "      <td>16</td>\n",
       "      <td>11</td>\n",
       "      <td>19</td>\n",
       "      <td>21</td>\n",
       "      <td>1</td>\n",
       "      <td>1</td>\n",
       "      <td>1</td>\n",
       "      <td>1</td>\n",
       "      <td>1</td>\n",
       "      <td>1</td>\n",
       "    </tr>\n",
       "    <tr>\n",
       "      <th>1</th>\n",
       "      <td>0</td>\n",
       "      <td>19</td>\n",
       "      <td>0</td>\n",
       "      <td>1</td>\n",
       "      <td>11</td>\n",
       "      <td>3</td>\n",
       "      <td>19</td>\n",
       "      <td>19</td>\n",
       "      <td>23</td>\n",
       "      <td>23</td>\n",
       "      <td>...</td>\n",
       "      <td>16</td>\n",
       "      <td>14</td>\n",
       "      <td>14</td>\n",
       "      <td>10</td>\n",
       "      <td>2</td>\n",
       "      <td>1</td>\n",
       "      <td>1</td>\n",
       "      <td>1</td>\n",
       "      <td>2</td>\n",
       "      <td>1</td>\n",
       "    </tr>\n",
       "    <tr>\n",
       "      <th>2</th>\n",
       "      <td>2</td>\n",
       "      <td>19</td>\n",
       "      <td>23</td>\n",
       "      <td>12</td>\n",
       "      <td>14</td>\n",
       "      <td>3</td>\n",
       "      <td>19</td>\n",
       "      <td>19</td>\n",
       "      <td>23</td>\n",
       "      <td>23</td>\n",
       "      <td>...</td>\n",
       "      <td>16</td>\n",
       "      <td>14</td>\n",
       "      <td>14</td>\n",
       "      <td>13</td>\n",
       "      <td>2</td>\n",
       "      <td>1</td>\n",
       "      <td>1</td>\n",
       "      <td>1</td>\n",
       "      <td>2</td>\n",
       "      <td>1</td>\n",
       "    </tr>\n",
       "    <tr>\n",
       "      <th>3</th>\n",
       "      <td>0</td>\n",
       "      <td>0</td>\n",
       "      <td>23</td>\n",
       "      <td>16</td>\n",
       "      <td>14</td>\n",
       "      <td>5</td>\n",
       "      <td>19</td>\n",
       "      <td>19</td>\n",
       "      <td>23</td>\n",
       "      <td>23</td>\n",
       "      <td>...</td>\n",
       "      <td>16</td>\n",
       "      <td>11</td>\n",
       "      <td>19</td>\n",
       "      <td>21</td>\n",
       "      <td>1</td>\n",
       "      <td>1</td>\n",
       "      <td>1</td>\n",
       "      <td>1</td>\n",
       "      <td>1</td>\n",
       "      <td>1</td>\n",
       "    </tr>\n",
       "    <tr>\n",
       "      <th>4</th>\n",
       "      <td>0</td>\n",
       "      <td>19</td>\n",
       "      <td>10</td>\n",
       "      <td>14</td>\n",
       "      <td>11</td>\n",
       "      <td>5</td>\n",
       "      <td>19</td>\n",
       "      <td>19</td>\n",
       "      <td>23</td>\n",
       "      <td>23</td>\n",
       "      <td>...</td>\n",
       "      <td>5</td>\n",
       "      <td>14</td>\n",
       "      <td>1</td>\n",
       "      <td>10</td>\n",
       "      <td>2</td>\n",
       "      <td>2</td>\n",
       "      <td>1</td>\n",
       "      <td>2</td>\n",
       "      <td>2</td>\n",
       "      <td>2</td>\n",
       "    </tr>\n",
       "    <tr>\n",
       "      <th>...</th>\n",
       "      <td>...</td>\n",
       "      <td>...</td>\n",
       "      <td>...</td>\n",
       "      <td>...</td>\n",
       "      <td>...</td>\n",
       "      <td>...</td>\n",
       "      <td>...</td>\n",
       "      <td>...</td>\n",
       "      <td>...</td>\n",
       "      <td>...</td>\n",
       "      <td>...</td>\n",
       "      <td>...</td>\n",
       "      <td>...</td>\n",
       "      <td>...</td>\n",
       "      <td>...</td>\n",
       "      <td>...</td>\n",
       "      <td>...</td>\n",
       "      <td>...</td>\n",
       "      <td>...</td>\n",
       "      <td>...</td>\n",
       "      <td>...</td>\n",
       "    </tr>\n",
       "    <tr>\n",
       "      <th>8119</th>\n",
       "      <td>11</td>\n",
       "      <td>19</td>\n",
       "      <td>14</td>\n",
       "      <td>14</td>\n",
       "      <td>0</td>\n",
       "      <td>0</td>\n",
       "      <td>19</td>\n",
       "      <td>19</td>\n",
       "      <td>15</td>\n",
       "      <td>15</td>\n",
       "      <td>...</td>\n",
       "      <td>16</td>\n",
       "      <td>2</td>\n",
       "      <td>3</td>\n",
       "      <td>12</td>\n",
       "      <td>2</td>\n",
       "      <td>2</td>\n",
       "      <td>2</td>\n",
       "      <td>1</td>\n",
       "      <td>2</td>\n",
       "      <td>1</td>\n",
       "    </tr>\n",
       "    <tr>\n",
       "      <th>8120</th>\n",
       "      <td>0</td>\n",
       "      <td>19</td>\n",
       "      <td>14</td>\n",
       "      <td>14</td>\n",
       "      <td>0</td>\n",
       "      <td>0</td>\n",
       "      <td>19</td>\n",
       "      <td>19</td>\n",
       "      <td>15</td>\n",
       "      <td>15</td>\n",
       "      <td>...</td>\n",
       "      <td>16</td>\n",
       "      <td>2</td>\n",
       "      <td>22</td>\n",
       "      <td>12</td>\n",
       "      <td>2</td>\n",
       "      <td>2</td>\n",
       "      <td>2</td>\n",
       "      <td>1</td>\n",
       "      <td>2</td>\n",
       "      <td>1</td>\n",
       "    </tr>\n",
       "    <tr>\n",
       "      <th>8121</th>\n",
       "      <td>6</td>\n",
       "      <td>19</td>\n",
       "      <td>14</td>\n",
       "      <td>14</td>\n",
       "      <td>14</td>\n",
       "      <td>0</td>\n",
       "      <td>19</td>\n",
       "      <td>19</td>\n",
       "      <td>15</td>\n",
       "      <td>15</td>\n",
       "      <td>...</td>\n",
       "      <td>16</td>\n",
       "      <td>2</td>\n",
       "      <td>3</td>\n",
       "      <td>12</td>\n",
       "      <td>2</td>\n",
       "      <td>2</td>\n",
       "      <td>2</td>\n",
       "      <td>1</td>\n",
       "      <td>2</td>\n",
       "      <td>1</td>\n",
       "    </tr>\n",
       "    <tr>\n",
       "      <th>8122</th>\n",
       "      <td>11</td>\n",
       "      <td>0</td>\n",
       "      <td>14</td>\n",
       "      <td>0</td>\n",
       "      <td>2</td>\n",
       "      <td>0</td>\n",
       "      <td>19</td>\n",
       "      <td>11</td>\n",
       "      <td>23</td>\n",
       "      <td>23</td>\n",
       "      <td>...</td>\n",
       "      <td>5</td>\n",
       "      <td>23</td>\n",
       "      <td>22</td>\n",
       "      <td>12</td>\n",
       "      <td>1</td>\n",
       "      <td>2</td>\n",
       "      <td>1</td>\n",
       "      <td>1</td>\n",
       "      <td>1</td>\n",
       "      <td>2</td>\n",
       "    </tr>\n",
       "    <tr>\n",
       "      <th>8123</th>\n",
       "      <td>0</td>\n",
       "      <td>19</td>\n",
       "      <td>14</td>\n",
       "      <td>14</td>\n",
       "      <td>0</td>\n",
       "      <td>0</td>\n",
       "      <td>19</td>\n",
       "      <td>19</td>\n",
       "      <td>15</td>\n",
       "      <td>15</td>\n",
       "      <td>...</td>\n",
       "      <td>16</td>\n",
       "      <td>15</td>\n",
       "      <td>3</td>\n",
       "      <td>12</td>\n",
       "      <td>2</td>\n",
       "      <td>2</td>\n",
       "      <td>2</td>\n",
       "      <td>1</td>\n",
       "      <td>2</td>\n",
       "      <td>1</td>\n",
       "    </tr>\n",
       "  </tbody>\n",
       "</table>\n",
       "<p>8124 rows × 22 columns</p>\n",
       "</div>"
      ],
      "text/plain": [
       "      cap-shape  cap-surface  cap-color  odor  gill-color  stalk-root  \\\n",
       "0             0           19         14    16          11           5   \n",
       "1             0           19          0     1          11           3   \n",
       "2             2           19         23    12          14           3   \n",
       "3             0            0         23    16          14           5   \n",
       "4             0           19         10    14          11           5   \n",
       "...         ...          ...        ...   ...         ...         ...   \n",
       "8119         11           19         14    14           0           0   \n",
       "8120          0           19         14    14           0           0   \n",
       "8121          6           19         14    14          14           0   \n",
       "8122         11            0         14     0           2           0   \n",
       "8123          0           19         14    14           0           0   \n",
       "\n",
       "      stalk-surface-above-ring  stalk-surface-below-ring  \\\n",
       "0                           19                        19   \n",
       "1                           19                        19   \n",
       "2                           19                        19   \n",
       "3                           19                        19   \n",
       "4                           19                        19   \n",
       "...                        ...                       ...   \n",
       "8119                        19                        19   \n",
       "8120                        19                        19   \n",
       "8121                        19                        19   \n",
       "8122                        19                        11   \n",
       "8123                        19                        19   \n",
       "\n",
       "      stalk-color-above-ring  stalk-color-below-ring  ...  ring-type  \\\n",
       "0                         23                      23  ...         16   \n",
       "1                         23                      23  ...         16   \n",
       "2                         23                      23  ...         16   \n",
       "3                         23                      23  ...         16   \n",
       "4                         23                      23  ...          5   \n",
       "...                      ...                     ...  ...        ...   \n",
       "8119                      15                      15  ...         16   \n",
       "8120                      15                      15  ...         16   \n",
       "8121                      15                      15  ...         16   \n",
       "8122                      23                      23  ...          5   \n",
       "8123                      15                      15  ...         16   \n",
       "\n",
       "      spore-print-color  population  habitat  class  bruises  gill-attachment  \\\n",
       "0                    11          19       21      1        1                1   \n",
       "1                    14          14       10      2        1                1   \n",
       "2                    14          14       13      2        1                1   \n",
       "3                    11          19       21      1        1                1   \n",
       "4                    14           1       10      2        2                1   \n",
       "...                 ...         ...      ...    ...      ...              ...   \n",
       "8119                  2           3       12      2        2                2   \n",
       "8120                  2          22       12      2        2                2   \n",
       "8121                  2           3       12      2        2                2   \n",
       "8122                 23          22       12      1        2                1   \n",
       "8123                 15           3       12      2        2                2   \n",
       "\n",
       "      gill-spacing  gill-size  stalk-shape  \n",
       "0                1          1            1  \n",
       "1                1          2            1  \n",
       "2                1          2            1  \n",
       "3                1          1            1  \n",
       "4                2          2            2  \n",
       "...            ...        ...          ...  \n",
       "8119             1          2            1  \n",
       "8120             1          2            1  \n",
       "8121             1          2            1  \n",
       "8122             1          1            2  \n",
       "8123             1          2            1  \n",
       "\n",
       "[8124 rows x 22 columns]"
      ]
     },
     "execution_count": 10,
     "metadata": {},
     "output_type": "execute_result"
    }
   ],
   "source": [
    "df"
   ]
  },
  {
   "cell_type": "code",
   "execution_count": 11,
   "metadata": {},
   "outputs": [
    {
     "data": {
      "application/vnd.plotly.v1+json": {
       "config": {
        "plotlyServerURL": "https://plot.ly"
       },
       "data": [
        {
         "coloraxis": "coloraxis",
         "hovertemplate": "x: %{x}<br>y: %{y}<br>color: %{z}<extra></extra>",
         "name": "0",
         "texttemplate": "%{z}",
         "type": "heatmap",
         "x": [
          "cap-shape",
          "cap-surface",
          "cap-color",
          "odor",
          "gill-color",
          "stalk-root",
          "stalk-surface-above-ring",
          "stalk-surface-below-ring",
          "stalk-color-above-ring",
          "stalk-color-below-ring",
          "veil-color",
          "ring-number",
          "ring-type",
          "spore-print-color",
          "population",
          "habitat",
          "class",
          "bruises",
          "gill-attachment",
          "gill-spacing",
          "gill-size",
          "stalk-shape"
         ],
         "xaxis": "x",
         "y": [
          "cap-shape",
          "cap-surface",
          "cap-color",
          "odor",
          "gill-color",
          "stalk-root",
          "stalk-surface-above-ring",
          "stalk-surface-below-ring",
          "stalk-color-above-ring",
          "stalk-color-below-ring",
          "veil-color",
          "ring-number",
          "ring-type",
          "spore-print-color",
          "population",
          "habitat",
          "class",
          "bruises",
          "gill-attachment",
          "gill-spacing",
          "gill-size",
          "stalk-shape"
         ],
         "yaxis": "y",
         "z": [
          [
           1,
           0.03,
           -0.03,
           0.04,
           -0.21,
           -0.14,
           -0.04,
           -0.03,
           -0.01,
           -0.02,
           -0.05,
           0.07,
           -0.23,
           0.27,
           0.07,
           0.12,
           -0.12,
           0.17,
           0.05,
           -0.05,
           -0.22,
           0.11
          ],
          [
           0.03,
           1,
           0.2,
           -0.01,
           -0.15,
           -0.13,
           -0.03,
           0.08,
           0.26,
           0.27,
           -0.18,
           0.12,
           -0.14,
           0.13,
           0.15,
           0.2,
           -0.04,
           0.12,
           0.2,
           0.24,
           -0.13,
           0.07
          ],
          [
           -0.03,
           0.2,
           1,
           0.18,
           0.08,
           0.04,
           0.13,
           0.14,
           0.31,
           0.31,
           -0.05,
           0.12,
           0.02,
           0.07,
           0.05,
           0.04,
           0.19,
           -0.04,
           0.07,
           0.31,
           -0.08,
           0.05
          ],
          [
           0.04,
           -0.01,
           0.18,
           1,
           0.24,
           0.01,
           0.19,
           0.2,
           0.08,
           0.07,
           -0.1,
           0.19,
           0.07,
           0.06,
           -0.14,
           -0.08,
           0.43,
           -0.21,
           0.11,
           0.19,
           0.14,
           0.19
          ],
          [
           -0.21,
           -0.15,
           0.08,
           0.24,
           1,
           0.31,
           0.23,
           0.11,
           0.02,
           -0.01,
           0.05,
           0.15,
           0.64,
           -0.43,
           -0.27,
           -0.2,
           0.54,
           -0.57,
           -0.06,
           0.12,
           0.54,
           -0.19
          ],
          [
           -0.14,
           -0.13,
           0.04,
           0.01,
           0.31,
           1,
           0.07,
           -0.38,
           0.19,
           0.2,
           0.1,
           -0.18,
           0.23,
           -0.35,
           -0.2,
           0.08,
           0.31,
           -0.27,
           -0.11,
           0.16,
           0.29,
           -0.2
          ],
          [
           -0.04,
           -0.03,
           0.13,
           0.19,
           0.23,
           0.07,
           1,
           0.4,
           0.18,
           0.19,
           -0.05,
           0.06,
           0.34,
           0.07,
           0.01,
           -0.11,
           0.38,
           -0.51,
           0.09,
           -0.17,
           -0.04,
           0.07
          ],
          [
           -0.03,
           0.08,
           0.14,
           0.2,
           0.11,
           -0.38,
           0.4,
           1,
           0.09,
           0.13,
           -0.06,
           0.09,
           0.24,
           0.08,
           0.07,
           -0.12,
           0.25,
           -0.36,
           0.07,
           -0.09,
           -0.06,
           0.2
          ],
          [
           -0.01,
           0.26,
           0.31,
           0.08,
           0.02,
           0.19,
           0.18,
           0.09,
           1,
           0.53,
           0.12,
           0.08,
           -0.07,
           0.24,
           0.2,
           0.11,
           0.19,
           -0.1,
           -0.12,
           0.33,
           -0.24,
           0.16
          ],
          [
           -0.02,
           0.27,
           0.31,
           0.07,
           -0.01,
           0.2,
           0.19,
           0.13,
           0.53,
           1,
           0.12,
           0.08,
           -0.04,
           0.21,
           0.19,
           0.12,
           0.19,
           -0.12,
           -0.11,
           0.31,
           -0.21,
           0.18
          ],
          [
           -0.05,
           -0.18,
           -0.05,
           -0.1,
           0.05,
           0.1,
           -0.05,
           -0.06,
           0.12,
           0.12,
           1,
           0.04,
           -0.1,
           0.14,
           0.05,
           -0.07,
           -0.12,
           -0.13,
           -0.83,
           0.02,
           -0.07,
           0.17
          ],
          [
           0.07,
           0.12,
           0.12,
           0.19,
           0.15,
           -0.18,
           0.06,
           0.09,
           0.08,
           0.08,
           0.04,
           1,
           0.05,
           0.36,
           -0.07,
           0.27,
           0.21,
           -0.05,
           -0.06,
           0.25,
           0.19,
           -0.32
          ],
          [
           -0.23,
           -0.14,
           0.02,
           0.07,
           0.64,
           0.23,
           0.34,
           0.24,
           -0.07,
           -0.04,
           -0.1,
           0.05,
           1,
           -0.54,
           -0.15,
           -0.23,
           0.36,
           -0.65,
           0.14,
           -0.22,
           0.5,
           -0.34
          ],
          [
           0.27,
           0.13,
           0.07,
           0.06,
           -0.43,
           -0.35,
           0.07,
           0.08,
           0.24,
           0.21,
           0.14,
           0.36,
           -0.54,
           1,
           0.29,
           0.13,
           -0.16,
           0.22,
           -0.15,
           0.07,
           -0.63,
           0.31
          ],
          [
           0.07,
           0.15,
           0.05,
           -0.14,
           -0.27,
           -0.2,
           0.01,
           0.07,
           0.2,
           0.19,
           0.05,
           -0.07,
           -0.15,
           0.29,
           1,
           0.05,
           -0.32,
           0.12,
           -0.05,
           -0.06,
           -0.44,
           0.13
          ],
          [
           0.12,
           0.2,
           0.04,
           -0.08,
           -0.2,
           0.08,
           -0.11,
           -0.12,
           0.11,
           0.12,
           -0.07,
           0.27,
           -0.23,
           0.13,
           0.05,
           1,
           -0.19,
           0.12,
           0.05,
           -0.03,
           -0.12,
           -0.3
          ],
          [
           -0.12,
           -0.04,
           0.19,
           0.43,
           0.54,
           0.31,
           0.38,
           0.25,
           0.19,
           0.19,
           -0.12,
           0.21,
           0.36,
           -0.16,
           -0.32,
           -0.19,
           1,
           -0.5,
           0.13,
           0.35,
           0.54,
           0.1
          ],
          [
           0.17,
           0.12,
           -0.04,
           -0.21,
           -0.57,
           -0.27,
           -0.51,
           -0.36,
           -0.1,
           -0.12,
           -0.13,
           -0.05,
           -0.65,
           0.22,
           0.12,
           0.12,
           -0.5,
           1,
           0.14,
           0.3,
           -0.37,
           -0.1
          ],
          [
           0.05,
           0.2,
           0.07,
           0.11,
           -0.06,
           -0.11,
           0.09,
           0.07,
           -0.12,
           -0.11,
           -0.83,
           -0.06,
           0.14,
           -0.15,
           -0.05,
           0.05,
           0.13,
           0.14,
           1,
           -0.07,
           0.11,
           -0.19
          ],
          [
           -0.05,
           0.24,
           0.31,
           0.19,
           0.12,
           0.16,
           -0.17,
           -0.09,
           0.33,
           0.31,
           0.02,
           0.25,
           -0.22,
           0.07,
           -0.06,
           -0.03,
           0.35,
           0.3,
           -0.07,
           1,
           0.11,
           0.08
          ],
          [
           -0.22,
           -0.13,
           -0.08,
           0.14,
           0.54,
           0.29,
           -0.04,
           -0.06,
           -0.24,
           -0.21,
           -0.07,
           0.19,
           0.5,
           -0.63,
           -0.44,
           -0.12,
           0.54,
           -0.37,
           0.11,
           0.11,
           1,
           -0.21
          ],
          [
           0.11,
           0.07,
           0.05,
           0.19,
           -0.19,
           -0.2,
           0.07,
           0.2,
           0.16,
           0.18,
           0.17,
           -0.32,
           -0.34,
           0.31,
           0.13,
           -0.3,
           0.1,
           -0.1,
           -0.19,
           0.08,
           -0.21,
           1
          ]
         ]
        }
       ],
       "layout": {
        "coloraxis": {
         "colorscale": [
          [
           0,
           "#0d0887"
          ],
          [
           0.1111111111111111,
           "#46039f"
          ],
          [
           0.2222222222222222,
           "#7201a8"
          ],
          [
           0.3333333333333333,
           "#9c179e"
          ],
          [
           0.4444444444444444,
           "#bd3786"
          ],
          [
           0.5555555555555556,
           "#d8576b"
          ],
          [
           0.6666666666666666,
           "#ed7953"
          ],
          [
           0.7777777777777778,
           "#fb9f3a"
          ],
          [
           0.8888888888888888,
           "#fdca26"
          ],
          [
           1,
           "#f0f921"
          ]
         ]
        },
        "margin": {
         "t": 60
        },
        "template": {
         "data": {
          "bar": [
           {
            "error_x": {
             "color": "#2a3f5f"
            },
            "error_y": {
             "color": "#2a3f5f"
            },
            "marker": {
             "line": {
              "color": "#E5ECF6",
              "width": 0.5
             },
             "pattern": {
              "fillmode": "overlay",
              "size": 10,
              "solidity": 0.2
             }
            },
            "type": "bar"
           }
          ],
          "barpolar": [
           {
            "marker": {
             "line": {
              "color": "#E5ECF6",
              "width": 0.5
             },
             "pattern": {
              "fillmode": "overlay",
              "size": 10,
              "solidity": 0.2
             }
            },
            "type": "barpolar"
           }
          ],
          "carpet": [
           {
            "aaxis": {
             "endlinecolor": "#2a3f5f",
             "gridcolor": "white",
             "linecolor": "white",
             "minorgridcolor": "white",
             "startlinecolor": "#2a3f5f"
            },
            "baxis": {
             "endlinecolor": "#2a3f5f",
             "gridcolor": "white",
             "linecolor": "white",
             "minorgridcolor": "white",
             "startlinecolor": "#2a3f5f"
            },
            "type": "carpet"
           }
          ],
          "choropleth": [
           {
            "colorbar": {
             "outlinewidth": 0,
             "ticks": ""
            },
            "type": "choropleth"
           }
          ],
          "contour": [
           {
            "colorbar": {
             "outlinewidth": 0,
             "ticks": ""
            },
            "colorscale": [
             [
              0,
              "#0d0887"
             ],
             [
              0.1111111111111111,
              "#46039f"
             ],
             [
              0.2222222222222222,
              "#7201a8"
             ],
             [
              0.3333333333333333,
              "#9c179e"
             ],
             [
              0.4444444444444444,
              "#bd3786"
             ],
             [
              0.5555555555555556,
              "#d8576b"
             ],
             [
              0.6666666666666666,
              "#ed7953"
             ],
             [
              0.7777777777777778,
              "#fb9f3a"
             ],
             [
              0.8888888888888888,
              "#fdca26"
             ],
             [
              1,
              "#f0f921"
             ]
            ],
            "type": "contour"
           }
          ],
          "contourcarpet": [
           {
            "colorbar": {
             "outlinewidth": 0,
             "ticks": ""
            },
            "type": "contourcarpet"
           }
          ],
          "heatmap": [
           {
            "colorbar": {
             "outlinewidth": 0,
             "ticks": ""
            },
            "colorscale": [
             [
              0,
              "#0d0887"
             ],
             [
              0.1111111111111111,
              "#46039f"
             ],
             [
              0.2222222222222222,
              "#7201a8"
             ],
             [
              0.3333333333333333,
              "#9c179e"
             ],
             [
              0.4444444444444444,
              "#bd3786"
             ],
             [
              0.5555555555555556,
              "#d8576b"
             ],
             [
              0.6666666666666666,
              "#ed7953"
             ],
             [
              0.7777777777777778,
              "#fb9f3a"
             ],
             [
              0.8888888888888888,
              "#fdca26"
             ],
             [
              1,
              "#f0f921"
             ]
            ],
            "type": "heatmap"
           }
          ],
          "heatmapgl": [
           {
            "colorbar": {
             "outlinewidth": 0,
             "ticks": ""
            },
            "colorscale": [
             [
              0,
              "#0d0887"
             ],
             [
              0.1111111111111111,
              "#46039f"
             ],
             [
              0.2222222222222222,
              "#7201a8"
             ],
             [
              0.3333333333333333,
              "#9c179e"
             ],
             [
              0.4444444444444444,
              "#bd3786"
             ],
             [
              0.5555555555555556,
              "#d8576b"
             ],
             [
              0.6666666666666666,
              "#ed7953"
             ],
             [
              0.7777777777777778,
              "#fb9f3a"
             ],
             [
              0.8888888888888888,
              "#fdca26"
             ],
             [
              1,
              "#f0f921"
             ]
            ],
            "type": "heatmapgl"
           }
          ],
          "histogram": [
           {
            "marker": {
             "pattern": {
              "fillmode": "overlay",
              "size": 10,
              "solidity": 0.2
             }
            },
            "type": "histogram"
           }
          ],
          "histogram2d": [
           {
            "colorbar": {
             "outlinewidth": 0,
             "ticks": ""
            },
            "colorscale": [
             [
              0,
              "#0d0887"
             ],
             [
              0.1111111111111111,
              "#46039f"
             ],
             [
              0.2222222222222222,
              "#7201a8"
             ],
             [
              0.3333333333333333,
              "#9c179e"
             ],
             [
              0.4444444444444444,
              "#bd3786"
             ],
             [
              0.5555555555555556,
              "#d8576b"
             ],
             [
              0.6666666666666666,
              "#ed7953"
             ],
             [
              0.7777777777777778,
              "#fb9f3a"
             ],
             [
              0.8888888888888888,
              "#fdca26"
             ],
             [
              1,
              "#f0f921"
             ]
            ],
            "type": "histogram2d"
           }
          ],
          "histogram2dcontour": [
           {
            "colorbar": {
             "outlinewidth": 0,
             "ticks": ""
            },
            "colorscale": [
             [
              0,
              "#0d0887"
             ],
             [
              0.1111111111111111,
              "#46039f"
             ],
             [
              0.2222222222222222,
              "#7201a8"
             ],
             [
              0.3333333333333333,
              "#9c179e"
             ],
             [
              0.4444444444444444,
              "#bd3786"
             ],
             [
              0.5555555555555556,
              "#d8576b"
             ],
             [
              0.6666666666666666,
              "#ed7953"
             ],
             [
              0.7777777777777778,
              "#fb9f3a"
             ],
             [
              0.8888888888888888,
              "#fdca26"
             ],
             [
              1,
              "#f0f921"
             ]
            ],
            "type": "histogram2dcontour"
           }
          ],
          "mesh3d": [
           {
            "colorbar": {
             "outlinewidth": 0,
             "ticks": ""
            },
            "type": "mesh3d"
           }
          ],
          "parcoords": [
           {
            "line": {
             "colorbar": {
              "outlinewidth": 0,
              "ticks": ""
             }
            },
            "type": "parcoords"
           }
          ],
          "pie": [
           {
            "automargin": true,
            "type": "pie"
           }
          ],
          "scatter": [
           {
            "fillpattern": {
             "fillmode": "overlay",
             "size": 10,
             "solidity": 0.2
            },
            "type": "scatter"
           }
          ],
          "scatter3d": [
           {
            "line": {
             "colorbar": {
              "outlinewidth": 0,
              "ticks": ""
             }
            },
            "marker": {
             "colorbar": {
              "outlinewidth": 0,
              "ticks": ""
             }
            },
            "type": "scatter3d"
           }
          ],
          "scattercarpet": [
           {
            "marker": {
             "colorbar": {
              "outlinewidth": 0,
              "ticks": ""
             }
            },
            "type": "scattercarpet"
           }
          ],
          "scattergeo": [
           {
            "marker": {
             "colorbar": {
              "outlinewidth": 0,
              "ticks": ""
             }
            },
            "type": "scattergeo"
           }
          ],
          "scattergl": [
           {
            "marker": {
             "colorbar": {
              "outlinewidth": 0,
              "ticks": ""
             }
            },
            "type": "scattergl"
           }
          ],
          "scattermapbox": [
           {
            "marker": {
             "colorbar": {
              "outlinewidth": 0,
              "ticks": ""
             }
            },
            "type": "scattermapbox"
           }
          ],
          "scatterpolar": [
           {
            "marker": {
             "colorbar": {
              "outlinewidth": 0,
              "ticks": ""
             }
            },
            "type": "scatterpolar"
           }
          ],
          "scatterpolargl": [
           {
            "marker": {
             "colorbar": {
              "outlinewidth": 0,
              "ticks": ""
             }
            },
            "type": "scatterpolargl"
           }
          ],
          "scatterternary": [
           {
            "marker": {
             "colorbar": {
              "outlinewidth": 0,
              "ticks": ""
             }
            },
            "type": "scatterternary"
           }
          ],
          "surface": [
           {
            "colorbar": {
             "outlinewidth": 0,
             "ticks": ""
            },
            "colorscale": [
             [
              0,
              "#0d0887"
             ],
             [
              0.1111111111111111,
              "#46039f"
             ],
             [
              0.2222222222222222,
              "#7201a8"
             ],
             [
              0.3333333333333333,
              "#9c179e"
             ],
             [
              0.4444444444444444,
              "#bd3786"
             ],
             [
              0.5555555555555556,
              "#d8576b"
             ],
             [
              0.6666666666666666,
              "#ed7953"
             ],
             [
              0.7777777777777778,
              "#fb9f3a"
             ],
             [
              0.8888888888888888,
              "#fdca26"
             ],
             [
              1,
              "#f0f921"
             ]
            ],
            "type": "surface"
           }
          ],
          "table": [
           {
            "cells": {
             "fill": {
              "color": "#EBF0F8"
             },
             "line": {
              "color": "white"
             }
            },
            "header": {
             "fill": {
              "color": "#C8D4E3"
             },
             "line": {
              "color": "white"
             }
            },
            "type": "table"
           }
          ]
         },
         "layout": {
          "annotationdefaults": {
           "arrowcolor": "#2a3f5f",
           "arrowhead": 0,
           "arrowwidth": 1
          },
          "autotypenumbers": "strict",
          "coloraxis": {
           "colorbar": {
            "outlinewidth": 0,
            "ticks": ""
           }
          },
          "colorscale": {
           "diverging": [
            [
             0,
             "#8e0152"
            ],
            [
             0.1,
             "#c51b7d"
            ],
            [
             0.2,
             "#de77ae"
            ],
            [
             0.3,
             "#f1b6da"
            ],
            [
             0.4,
             "#fde0ef"
            ],
            [
             0.5,
             "#f7f7f7"
            ],
            [
             0.6,
             "#e6f5d0"
            ],
            [
             0.7,
             "#b8e186"
            ],
            [
             0.8,
             "#7fbc41"
            ],
            [
             0.9,
             "#4d9221"
            ],
            [
             1,
             "#276419"
            ]
           ],
           "sequential": [
            [
             0,
             "#0d0887"
            ],
            [
             0.1111111111111111,
             "#46039f"
            ],
            [
             0.2222222222222222,
             "#7201a8"
            ],
            [
             0.3333333333333333,
             "#9c179e"
            ],
            [
             0.4444444444444444,
             "#bd3786"
            ],
            [
             0.5555555555555556,
             "#d8576b"
            ],
            [
             0.6666666666666666,
             "#ed7953"
            ],
            [
             0.7777777777777778,
             "#fb9f3a"
            ],
            [
             0.8888888888888888,
             "#fdca26"
            ],
            [
             1,
             "#f0f921"
            ]
           ],
           "sequentialminus": [
            [
             0,
             "#0d0887"
            ],
            [
             0.1111111111111111,
             "#46039f"
            ],
            [
             0.2222222222222222,
             "#7201a8"
            ],
            [
             0.3333333333333333,
             "#9c179e"
            ],
            [
             0.4444444444444444,
             "#bd3786"
            ],
            [
             0.5555555555555556,
             "#d8576b"
            ],
            [
             0.6666666666666666,
             "#ed7953"
            ],
            [
             0.7777777777777778,
             "#fb9f3a"
            ],
            [
             0.8888888888888888,
             "#fdca26"
            ],
            [
             1,
             "#f0f921"
            ]
           ]
          },
          "colorway": [
           "#636efa",
           "#EF553B",
           "#00cc96",
           "#ab63fa",
           "#FFA15A",
           "#19d3f3",
           "#FF6692",
           "#B6E880",
           "#FF97FF",
           "#FECB52"
          ],
          "font": {
           "color": "#2a3f5f"
          },
          "geo": {
           "bgcolor": "white",
           "lakecolor": "white",
           "landcolor": "#E5ECF6",
           "showlakes": true,
           "showland": true,
           "subunitcolor": "white"
          },
          "hoverlabel": {
           "align": "left"
          },
          "hovermode": "closest",
          "mapbox": {
           "style": "light"
          },
          "paper_bgcolor": "white",
          "plot_bgcolor": "#E5ECF6",
          "polar": {
           "angularaxis": {
            "gridcolor": "white",
            "linecolor": "white",
            "ticks": ""
           },
           "bgcolor": "#E5ECF6",
           "radialaxis": {
            "gridcolor": "white",
            "linecolor": "white",
            "ticks": ""
           }
          },
          "scene": {
           "xaxis": {
            "backgroundcolor": "#E5ECF6",
            "gridcolor": "white",
            "gridwidth": 2,
            "linecolor": "white",
            "showbackground": true,
            "ticks": "",
            "zerolinecolor": "white"
           },
           "yaxis": {
            "backgroundcolor": "#E5ECF6",
            "gridcolor": "white",
            "gridwidth": 2,
            "linecolor": "white",
            "showbackground": true,
            "ticks": "",
            "zerolinecolor": "white"
           },
           "zaxis": {
            "backgroundcolor": "#E5ECF6",
            "gridcolor": "white",
            "gridwidth": 2,
            "linecolor": "white",
            "showbackground": true,
            "ticks": "",
            "zerolinecolor": "white"
           }
          },
          "shapedefaults": {
           "line": {
            "color": "#2a3f5f"
           }
          },
          "ternary": {
           "aaxis": {
            "gridcolor": "white",
            "linecolor": "white",
            "ticks": ""
           },
           "baxis": {
            "gridcolor": "white",
            "linecolor": "white",
            "ticks": ""
           },
           "bgcolor": "#E5ECF6",
           "caxis": {
            "gridcolor": "white",
            "linecolor": "white",
            "ticks": ""
           }
          },
          "title": {
           "x": 0.05
          },
          "xaxis": {
           "automargin": true,
           "gridcolor": "white",
           "linecolor": "white",
           "ticks": "",
           "title": {
            "standoff": 15
           },
           "zerolinecolor": "white",
           "zerolinewidth": 2
          },
          "yaxis": {
           "automargin": true,
           "gridcolor": "white",
           "linecolor": "white",
           "ticks": "",
           "title": {
            "standoff": 15
           },
           "zerolinecolor": "white",
           "zerolinewidth": 2
          }
         }
        },
        "xaxis": {
         "anchor": "y",
         "constrain": "domain",
         "domain": [
          0,
          1
         ],
         "scaleanchor": "y"
        },
        "yaxis": {
         "anchor": "x",
         "autorange": "reversed",
         "constrain": "domain",
         "domain": [
          0,
          1
         ]
        }
       }
      }
     },
     "metadata": {},
     "output_type": "display_data"
    }
   ],
   "source": [
    "def show_correlation(dataframe):\n",
    "    '''\n",
    "    Function drows dataset correlation matrix\n",
    "    '''\n",
    "    df_graph = round(dataframe.corr(),2)\n",
    "    fig = px.imshow(df_graph, text_auto=True)\n",
    "    fig.show()\n",
    "    fig.write_html(\"correlation.html\")\n",
    "    \n",
    "# look Species counts \n",
    "show_correlation(df)"
   ]
  },
  {
   "cell_type": "markdown",
   "metadata": {},
   "source": [
    "\n",
    "the correlation is not as strong as I hoped But some features have normal-level of correlation between each other as\n",
    " like: gill-color and ring-type ,\n",
    "         gill-color and bruises, \n",
    "         gill-color and  gill-size,\n",
    "          gill-color and class,\n",
    "\n",
    "The highest correlation we see is  between gill-attachment and veil-color.\n",
    "\n",
    "For now, let’s make the assumption that the signs complement each other "
   ]
  },
  {
   "cell_type": "markdown",
   "metadata": {},
   "source": [
    "Now we will try to create first model as baseline\n",
    "And after that make it better, step by step\n",
    "\n",
    "1) create base mode \n",
    "    1. Use 2-3 classificator ML\n",
    "    2. take score \n",
    "\n",
    "2) normalize and recreate model\n",
    "    1. Use 2-3 classificator ML\n",
    "    2. take score and diff with old model's from step 1.2\n",
    "\n",
    "3) play with hyper-parametrs after normalize\n",
    "    1. Use 2-3 classificator ML\n",
    "    3. take score and diff with old model's from step 1.2 and 2.2\n",
    "\n",
    "4) Final result and comments\n",
    "\n",
    "_Cross validation i remove from plan, think it's not beginer_"
   ]
  },
  {
   "cell_type": "code",
   "execution_count": 12,
   "metadata": {},
   "outputs": [
    {
     "name": "stdout",
     "output_type": "stream",
     "text": [
      "<class 'pandas.core.frame.DataFrame'>\n",
      "RangeIndex: 8124 entries, 0 to 8123\n",
      "Data columns (total 22 columns):\n",
      " #   Column                    Non-Null Count  Dtype\n",
      "---  ------                    --------------  -----\n",
      " 0   cap-shape                 8124 non-null   int64\n",
      " 1   cap-surface               8124 non-null   int64\n",
      " 2   cap-color                 8124 non-null   int64\n",
      " 3   odor                      8124 non-null   int64\n",
      " 4   gill-color                8124 non-null   int64\n",
      " 5   stalk-root                8124 non-null   int64\n",
      " 6   stalk-surface-above-ring  8124 non-null   int64\n",
      " 7   stalk-surface-below-ring  8124 non-null   int64\n",
      " 8   stalk-color-above-ring    8124 non-null   int64\n",
      " 9   stalk-color-below-ring    8124 non-null   int64\n",
      " 10  veil-color                8124 non-null   int64\n",
      " 11  ring-number               8124 non-null   int64\n",
      " 12  ring-type                 8124 non-null   int64\n",
      " 13  spore-print-color         8124 non-null   int64\n",
      " 14  population                8124 non-null   int64\n",
      " 15  habitat                   8124 non-null   int64\n",
      " 16  class                     8124 non-null   int64\n",
      " 17  bruises                   8124 non-null   int64\n",
      " 18  gill-attachment           8124 non-null   int64\n",
      " 19  gill-spacing              8124 non-null   int64\n",
      " 20  gill-size                 8124 non-null   int64\n",
      " 21  stalk-shape               8124 non-null   int64\n",
      "dtypes: int64(22)\n",
      "memory usage: 1.4 MB\n"
     ]
    }
   ],
   "source": [
    "df.info()"
   ]
  },
  {
   "cell_type": "code",
   "execution_count": 13,
   "metadata": {},
   "outputs": [],
   "source": [
    "def preapre_to_test(df):\n",
    "    \"\"\"\n",
    "    The function takes a dataset and prepares it for transmission test-prediction\n",
    "    Create:\n",
    "        Dataset X -- this is a dataset without a target feature (examples for processing)\n",
    "        Dataset y -- target feature\n",
    "        Dataset X_train -- 75% Data for training the model\n",
    "        Dataset X_test -- 25% To test the model for knowledge of the material.\n",
    "        Dataset y_train -- 75% training answers (for training)\n",
    "        Dataset y_test -- 25% test responses to compare model responses.\n",
    "    return: all created datasets\n",
    "    \"\"\"\n",
    "    X = df.drop(['class'], axis = 1)  \n",
    "    y = df['class']\n",
    "    X_train, X_test, y_train, y_test = train_test_split(X, y, test_size=0.25, random_state=17)\n",
    "    return X, y, X_train, X_test, y_train, y_test\n",
    "\n",
    "X, y, X_train, X_test, y_train, y_test = preapre_to_test(df)"
   ]
  },
  {
   "cell_type": "code",
   "execution_count": 14,
   "metadata": {},
   "outputs": [
    {
     "name": "stdout",
     "output_type": "stream",
     "text": [
      "RidgeClassifier()\n",
      "Train_MAPE: 0.03553257836861973\n",
      "Train classification_report:\n",
      "               precision    recall  f1-score   support\n",
      "\n",
      "    Poisoned       0.96      0.95      0.95      2938\n",
      "      Edible       0.95      0.96      0.96      3155\n",
      "\n",
      "    accuracy                           0.95      6093\n",
      "   macro avg       0.95      0.95      0.95      6093\n",
      "weighted avg       0.95      0.95      0.95      6093\n",
      "\n",
      "RidgeClassifier()\n",
      "Test_MAPE: 0.033973412112259974\n",
      "Test classification_report:\n",
      "               precision    recall  f1-score   support\n",
      "\n",
      "    Poisoned       0.95      0.95      0.95       978\n",
      "      Edible       0.96      0.95      0.96      1053\n",
      "\n",
      "    accuracy                           0.95      2031\n",
      "   macro avg       0.95      0.95      0.95      2031\n",
      "weighted avg       0.95      0.95      0.95      2031\n",
      "\n"
     ]
    }
   ],
   "source": [
    "RC_model = RidgeClassifier() \n",
    "def create_model(X_train, y_train, test_data, model):\n",
    "    print(model)\n",
    "    model.fit(X_train, y_train)  \n",
    "        \n",
    "    y_pred = model.predict(test_data)\n",
    "    \n",
    "    return y_pred\n",
    "  \n",
    "\n",
    "\n",
    "submission_pred = create_model(X_train, y_train, X_train,RC_model)\n",
    "print('Train_MAPE:', mean_absolute_percentage_error(y_train, submission_pred))\n",
    "print(\"Train classification_report:\\n\", classification_report(y_train, submission_pred,target_names=[\"Poisoned\",\"Edible\"]))\n",
    "\n",
    "submission_pred = create_model(X_train, y_train, X_test,RC_model)\n",
    "print('Test_MAPE:', mean_absolute_percentage_error(y_test, submission_pred))\n",
    "print(\"Test classification_report:\\n\", classification_report(y_test, submission_pred,target_names=[\"Poisoned\",\"Edible\"]))\n",
    "\n",
    "\n"
   ]
  },
  {
   "cell_type": "markdown",
   "metadata": {},
   "source": [
    "Next models two SVC and DecisionTreeClassifier"
   ]
  },
  {
   "cell_type": "code",
   "execution_count": 15,
   "metadata": {},
   "outputs": [
    {
     "name": "stdout",
     "output_type": "stream",
     "text": [
      "SVC(C=0.025, kernel='linear', random_state=17)\n"
     ]
    },
    {
     "name": "stdout",
     "output_type": "stream",
     "text": [
      "Train_MAPE: 0.04144099786640407\n",
      "Train classification_report:\n",
      "               precision    recall  f1-score   support\n",
      "\n",
      "    Poisoned       0.95      0.94      0.95      2938\n",
      "      Edible       0.94      0.96      0.95      3155\n",
      "\n",
      "    accuracy                           0.95      6093\n",
      "   macro avg       0.95      0.95      0.95      6093\n",
      "weighted avg       0.95      0.95      0.95      6093\n",
      "\n",
      "SVC(C=0.025, kernel='linear', random_state=17)\n",
      "Test_MAPE: 0.03938946331856229\n",
      "Test classification_report:\n",
      "               precision    recall  f1-score   support\n",
      "\n",
      "    Poisoned       0.95      0.94      0.95       978\n",
      "      Edible       0.95      0.95      0.95      1053\n",
      "\n",
      "    accuracy                           0.95      2031\n",
      "   macro avg       0.95      0.95      0.95      2031\n",
      "weighted avg       0.95      0.95      0.95      2031\n",
      "\n",
      "DecisionTreeClassifier(max_depth=5, random_state=17)\n",
      "Train_MAPE: 0.0029542097488921715\n",
      "Train classification_report:\n",
      "               precision    recall  f1-score   support\n",
      "\n",
      "    Poisoned       1.00      0.99      1.00      2938\n",
      "      Edible       0.99      1.00      1.00      3155\n",
      "\n",
      "    accuracy                           1.00      6093\n",
      "   macro avg       1.00      1.00      1.00      6093\n",
      "weighted avg       1.00      1.00      1.00      6093\n",
      "\n",
      "DecisionTreeClassifier(max_depth=5, random_state=17)\n",
      "Test_MAPE: 0.0029542097488921715\n",
      "Test classification_report:\n",
      "               precision    recall  f1-score   support\n",
      "\n",
      "    Poisoned       1.00      0.99      1.00       978\n",
      "      Edible       0.99      1.00      1.00      1053\n",
      "\n",
      "    accuracy                           1.00      2031\n",
      "   macro avg       1.00      1.00      1.00      2031\n",
      "weighted avg       1.00      1.00      1.00      2031\n",
      "\n",
      "SVC(C=1, gamma=2, random_state=17)\n",
      "Train_MAPE: 0.0\n",
      "Train classification_report:\n",
      "               precision    recall  f1-score   support\n",
      "\n",
      "    Poisoned       1.00      1.00      1.00      2938\n",
      "      Edible       1.00      1.00      1.00      3155\n",
      "\n",
      "    accuracy                           1.00      6093\n",
      "   macro avg       1.00      1.00      1.00      6093\n",
      "weighted avg       1.00      1.00      1.00      6093\n",
      "\n",
      "SVC(C=1, gamma=2, random_state=17)\n",
      "Test_MAPE: 0.45790251107828656\n",
      "Test classification_report:\n",
      "               precision    recall  f1-score   support\n",
      "\n",
      "    Poisoned       1.00      0.05      0.09       978\n",
      "      Edible       0.53      1.00      0.69      1053\n",
      "\n",
      "    accuracy                           0.54      2031\n",
      "   macro avg       0.77      0.52      0.39      2031\n",
      "weighted avg       0.76      0.54      0.40      2031\n",
      "\n"
     ]
    }
   ],
   "source": [
    "SVCl_model =  SVC(kernel=\"linear\", C=0.025, random_state=17)\n",
    "DTC_model  =  DecisionTreeClassifier(max_depth=5, random_state=17)\n",
    "SVCg_model =  SVC(gamma=2, C=1, random_state=17)\n",
    "\n",
    "submission_pred = create_model(X_train, y_train, X_train,SVCl_model)\n",
    "print('Train_MAPE:', mean_absolute_percentage_error(y_train, submission_pred))\n",
    "print(\"Train classification_report:\\n\", classification_report(y_train, submission_pred,target_names=[\"Poisoned\",\"Edible\"]))\n",
    "\n",
    "submission_pred = create_model(X_train, y_train, X_test,SVCl_model)\n",
    "print('Test_MAPE:', mean_absolute_percentage_error(y_test, submission_pred))\n",
    "print(\"Test classification_report:\\n\", classification_report(y_test, submission_pred,target_names=[\"Poisoned\",\"Edible\"]))\n",
    "\n",
    "submission_pred = create_model(X_train, y_train, X_train,DTC_model)\n",
    "print('Train_MAPE:', mean_absolute_percentage_error(y_train, submission_pred))\n",
    "print(\"Train classification_report:\\n\", classification_report(y_train, submission_pred,target_names=[\"Poisoned\",\"Edible\"]))\n",
    "\n",
    "submission_pred = create_model(X_train, y_train, X_test,DTC_model)\n",
    "print('Test_MAPE:', mean_absolute_percentage_error(y_test, submission_pred))\n",
    "print(\"Test classification_report:\\n\", classification_report(y_test, submission_pred,target_names=[\"Poisoned\",\"Edible\"]))\n",
    "\n",
    "submission_pred = create_model(X_train, y_train, X_train,SVCg_model)\n",
    "print('Train_MAPE:', mean_absolute_percentage_error(y_train, submission_pred))\n",
    "print(\"Train classification_report:\\n\", classification_report(y_train, submission_pred,target_names=[\"Poisoned\",\"Edible\"]))\n",
    "\n",
    "submission_pred = create_model(X_train, y_train, X_test,SVCg_model)\n",
    "print('Test_MAPE:', mean_absolute_percentage_error(y_test, submission_pred))\n",
    "print(\"Test classification_report:\\n\", classification_report(y_test, submission_pred,target_names=[\"Poisoned\",\"Edible\"]))"
   ]
  },
  {
   "cell_type": "markdown",
   "metadata": {},
   "source": [
    "I add MAPE scrore anyway\n",
    "Let's use ower table:\n",
    "\n",
    "OK report says \n",
    "f1 score intertritation\n",
    "<table>\n",
    "<tr><td>> f1 </td><td>Meaning</td></tr>\n",
    "<tr><td>> 1 - 0.99 </td><td>may be retrained</td></tr>\n",
    "<tr><td>> 0,99 - 0,9 </td><td>Very good</td></tr>\n",
    "<tr><td>> 0,9 - 0,75 </td><td>Good</td></tr>\n",
    "<tr><td>> 0.75 - 0,5 </td><td>Normal/OK</td></tr>\n",
    "<tr><td>> 0.75 - 0,5 </td><td>Normal/OK</td></tr>\n",
    "<tr><td>> < 0,5 </td><td>Not good/Bad</td></tr>\n",
    "</table>\n",
    "\n",
    "As we see RidgeClassifier and SVC linar shows \"Very good\" results<br>\n",
    "MAPE beter in RidgeClassifier 10 points for griff.. RidgeClassifier\n",
    "\n",
    "DecisionTreeClassifier is Relearned, need to correct model, first make max_depth lower\n",
    "\n",
    "SVC gamma Relearned in Train data, and have Not good/Bad result define poisoned mushrooms<br>\n",
    "try to correct C=1 to better value.\n",
    "\n",
    "but before lets standardize/normalize ower data"
   ]
  },
  {
   "cell_type": "code",
   "execution_count": 16,
   "metadata": {},
   "outputs": [
    {
     "name": "stdout",
     "output_type": "stream",
     "text": [
      "         cap-shape  cap-surface    cap-color         odor   gill-color  \\\n",
      "count  8124.000000  8124.000000  8124.000000  8124.000000  8124.000000   \n",
      "mean      0.191402     0.405064     0.455933     0.541838     0.533652   \n",
      "std       0.201968     0.423301     0.295859     0.290523     0.312339   \n",
      "min       0.000000     0.000000     0.000000     0.000000     0.000000   \n",
      "25%       0.000000     0.000000     0.217391     0.315789     0.347826   \n",
      "50%       0.105263     0.315789     0.434783     0.736842     0.608696   \n",
      "75%       0.315789     1.000000     0.608696     0.736842     0.695652   \n",
      "max       1.000000     1.000000     1.000000     1.000000     1.000000   \n",
      "\n",
      "        stalk-root  stalk-surface-above-ring  stalk-surface-below-ring  \\\n",
      "count  8124.000000               8124.000000               8124.000000   \n",
      "mean      0.124979                  0.827619                  0.795097   \n",
      "std       0.162154                  0.238365                  0.278991   \n",
      "min       0.000000                  0.000000                  0.000000   \n",
      "25%       0.000000                  0.578947                  0.578947   \n",
      "50%       0.111111                  1.000000                  1.000000   \n",
      "75%       0.111111                  1.000000                  1.000000   \n",
      "max       1.000000                  1.000000                  1.000000   \n",
      "\n",
      "       stalk-color-above-ring  stalk-color-below-ring  ...    ring-type  \\\n",
      "count             8124.000000             8124.000000  ...  8124.000000   \n",
      "mean                 0.797358                0.792306  ...     0.594109   \n",
      "std                  0.264850                0.266924  ...     0.450672   \n",
      "min                  0.000000                0.000000  ...     0.000000   \n",
      "25%                  0.695652                0.695652  ...     0.000000   \n",
      "50%                  1.000000                1.000000  ...     0.636364   \n",
      "75%                  1.000000                1.000000  ...     1.000000   \n",
      "max                  1.000000                1.000000  ...     1.000000   \n",
      "\n",
      "       spore-print-color   population      habitat        class      bruises  \\\n",
      "count        8124.000000  8124.000000  8124.000000  8124.000000  8124.000000   \n",
      "mean            0.638174     0.669151     0.296743     0.517971     0.584441   \n",
      "std             0.257610     0.430053     0.283918     0.499708     0.492848   \n",
      "min             0.000000     0.000000     0.000000     0.000000     0.000000   \n",
      "25%             0.478261     0.045455     0.000000     0.000000     0.000000   \n",
      "50%             0.608696     0.863636     0.315789     1.000000     1.000000   \n",
      "75%             1.000000     1.000000     0.421053     1.000000     1.000000   \n",
      "max             1.000000     1.000000     1.000000     1.000000     1.000000   \n",
      "\n",
      "       gill-attachment  gill-spacing    gill-size  stalk-shape  \n",
      "count      8124.000000   8124.000000  8124.000000  8124.000000  \n",
      "mean          0.025849      0.161497     0.690793     0.567208  \n",
      "std           0.158695      0.368011     0.462195     0.495493  \n",
      "min           0.000000      0.000000     0.000000     0.000000  \n",
      "25%           0.000000      0.000000     0.000000     0.000000  \n",
      "50%           0.000000      0.000000     1.000000     1.000000  \n",
      "75%           0.000000      0.000000     1.000000     1.000000  \n",
      "max           1.000000      1.000000     1.000000     1.000000  \n",
      "\n",
      "[8 rows x 22 columns]\n"
     ]
    }
   ],
   "source": [
    "def normalise_mms(df):\n",
    "    col_names = list(df.columns)\n",
    "    # инициализируем нормализатор MinMaxScaler\n",
    "    mm_scaler = preprocessing.MinMaxScaler()\n",
    "\n",
    "    # кодируем исходный датасет\n",
    "    df_mm = mm_scaler.fit_transform(df)\n",
    "\n",
    "    # Преобразуем промежуточный датасет в полноценный датафрейм для визуализации\n",
    "    df_mm = pd.DataFrame(df_mm, columns=col_names)\n",
    "    print(df_mm.describe())\n",
    "    return df_mm\n",
    "normal_df = normalise_mms(df)\n"
   ]
  },
  {
   "cell_type": "markdown",
   "metadata": {},
   "source": [
    "Lets look correlation now"
   ]
  },
  {
   "cell_type": "code",
   "execution_count": 17,
   "metadata": {},
   "outputs": [
    {
     "data": {
      "application/vnd.plotly.v1+json": {
       "config": {
        "plotlyServerURL": "https://plot.ly"
       },
       "data": [
        {
         "coloraxis": "coloraxis",
         "hovertemplate": "x: %{x}<br>y: %{y}<br>color: %{z}<extra></extra>",
         "name": "0",
         "texttemplate": "%{z}",
         "type": "heatmap",
         "x": [
          "cap-shape",
          "cap-surface",
          "cap-color",
          "odor",
          "gill-color",
          "stalk-root",
          "stalk-surface-above-ring",
          "stalk-surface-below-ring",
          "stalk-color-above-ring",
          "stalk-color-below-ring",
          "veil-color",
          "ring-number",
          "ring-type",
          "spore-print-color",
          "population",
          "habitat",
          "class",
          "bruises",
          "gill-attachment",
          "gill-spacing",
          "gill-size",
          "stalk-shape"
         ],
         "xaxis": "x",
         "y": [
          "cap-shape",
          "cap-surface",
          "cap-color",
          "odor",
          "gill-color",
          "stalk-root",
          "stalk-surface-above-ring",
          "stalk-surface-below-ring",
          "stalk-color-above-ring",
          "stalk-color-below-ring",
          "veil-color",
          "ring-number",
          "ring-type",
          "spore-print-color",
          "population",
          "habitat",
          "class",
          "bruises",
          "gill-attachment",
          "gill-spacing",
          "gill-size",
          "stalk-shape"
         ],
         "yaxis": "y",
         "z": [
          [
           1,
           0.03,
           -0.03,
           0.04,
           -0.21,
           -0.14,
           -0.04,
           -0.03,
           -0.01,
           -0.02,
           -0.05,
           0.07,
           -0.23,
           0.27,
           0.07,
           0.12,
           -0.12,
           0.17,
           0.05,
           -0.05,
           -0.22,
           0.11
          ],
          [
           0.03,
           1,
           0.2,
           -0.01,
           -0.15,
           -0.13,
           -0.03,
           0.08,
           0.26,
           0.27,
           -0.18,
           0.12,
           -0.14,
           0.13,
           0.15,
           0.2,
           -0.04,
           0.12,
           0.2,
           0.24,
           -0.13,
           0.07
          ],
          [
           -0.03,
           0.2,
           1,
           0.18,
           0.08,
           0.04,
           0.13,
           0.14,
           0.31,
           0.31,
           -0.05,
           0.12,
           0.02,
           0.07,
           0.05,
           0.04,
           0.19,
           -0.04,
           0.07,
           0.31,
           -0.08,
           0.05
          ],
          [
           0.04,
           -0.01,
           0.18,
           1,
           0.24,
           0.01,
           0.19,
           0.2,
           0.08,
           0.07,
           -0.1,
           0.19,
           0.07,
           0.06,
           -0.14,
           -0.08,
           0.43,
           -0.21,
           0.11,
           0.19,
           0.14,
           0.19
          ],
          [
           -0.21,
           -0.15,
           0.08,
           0.24,
           1,
           0.31,
           0.23,
           0.11,
           0.02,
           -0.01,
           0.05,
           0.15,
           0.64,
           -0.43,
           -0.27,
           -0.2,
           0.54,
           -0.57,
           -0.06,
           0.12,
           0.54,
           -0.19
          ],
          [
           -0.14,
           -0.13,
           0.04,
           0.01,
           0.31,
           1,
           0.07,
           -0.38,
           0.19,
           0.2,
           0.1,
           -0.18,
           0.23,
           -0.35,
           -0.2,
           0.08,
           0.31,
           -0.27,
           -0.11,
           0.16,
           0.29,
           -0.2
          ],
          [
           -0.04,
           -0.03,
           0.13,
           0.19,
           0.23,
           0.07,
           1,
           0.4,
           0.18,
           0.19,
           -0.05,
           0.06,
           0.34,
           0.07,
           0.01,
           -0.11,
           0.38,
           -0.51,
           0.09,
           -0.17,
           -0.04,
           0.07
          ],
          [
           -0.03,
           0.08,
           0.14,
           0.2,
           0.11,
           -0.38,
           0.4,
           1,
           0.09,
           0.13,
           -0.06,
           0.09,
           0.24,
           0.08,
           0.07,
           -0.12,
           0.25,
           -0.36,
           0.07,
           -0.09,
           -0.06,
           0.2
          ],
          [
           -0.01,
           0.26,
           0.31,
           0.08,
           0.02,
           0.19,
           0.18,
           0.09,
           1,
           0.53,
           0.12,
           0.08,
           -0.07,
           0.24,
           0.2,
           0.11,
           0.19,
           -0.1,
           -0.12,
           0.33,
           -0.24,
           0.16
          ],
          [
           -0.02,
           0.27,
           0.31,
           0.07,
           -0.01,
           0.2,
           0.19,
           0.13,
           0.53,
           1,
           0.12,
           0.08,
           -0.04,
           0.21,
           0.19,
           0.12,
           0.19,
           -0.12,
           -0.11,
           0.31,
           -0.21,
           0.18
          ],
          [
           -0.05,
           -0.18,
           -0.05,
           -0.1,
           0.05,
           0.1,
           -0.05,
           -0.06,
           0.12,
           0.12,
           1,
           0.04,
           -0.1,
           0.14,
           0.05,
           -0.07,
           -0.12,
           -0.13,
           -0.83,
           0.02,
           -0.07,
           0.17
          ],
          [
           0.07,
           0.12,
           0.12,
           0.19,
           0.15,
           -0.18,
           0.06,
           0.09,
           0.08,
           0.08,
           0.04,
           1,
           0.05,
           0.36,
           -0.07,
           0.27,
           0.21,
           -0.05,
           -0.06,
           0.25,
           0.19,
           -0.32
          ],
          [
           -0.23,
           -0.14,
           0.02,
           0.07,
           0.64,
           0.23,
           0.34,
           0.24,
           -0.07,
           -0.04,
           -0.1,
           0.05,
           1,
           -0.54,
           -0.15,
           -0.23,
           0.36,
           -0.65,
           0.14,
           -0.22,
           0.5,
           -0.34
          ],
          [
           0.27,
           0.13,
           0.07,
           0.06,
           -0.43,
           -0.35,
           0.07,
           0.08,
           0.24,
           0.21,
           0.14,
           0.36,
           -0.54,
           1,
           0.29,
           0.13,
           -0.16,
           0.22,
           -0.15,
           0.07,
           -0.63,
           0.31
          ],
          [
           0.07,
           0.15,
           0.05,
           -0.14,
           -0.27,
           -0.2,
           0.01,
           0.07,
           0.2,
           0.19,
           0.05,
           -0.07,
           -0.15,
           0.29,
           1,
           0.05,
           -0.32,
           0.12,
           -0.05,
           -0.06,
           -0.44,
           0.13
          ],
          [
           0.12,
           0.2,
           0.04,
           -0.08,
           -0.2,
           0.08,
           -0.11,
           -0.12,
           0.11,
           0.12,
           -0.07,
           0.27,
           -0.23,
           0.13,
           0.05,
           1,
           -0.19,
           0.12,
           0.05,
           -0.03,
           -0.12,
           -0.3
          ],
          [
           -0.12,
           -0.04,
           0.19,
           0.43,
           0.54,
           0.31,
           0.38,
           0.25,
           0.19,
           0.19,
           -0.12,
           0.21,
           0.36,
           -0.16,
           -0.32,
           -0.19,
           1,
           -0.5,
           0.13,
           0.35,
           0.54,
           0.1
          ],
          [
           0.17,
           0.12,
           -0.04,
           -0.21,
           -0.57,
           -0.27,
           -0.51,
           -0.36,
           -0.1,
           -0.12,
           -0.13,
           -0.05,
           -0.65,
           0.22,
           0.12,
           0.12,
           -0.5,
           1,
           0.14,
           0.3,
           -0.37,
           -0.1
          ],
          [
           0.05,
           0.2,
           0.07,
           0.11,
           -0.06,
           -0.11,
           0.09,
           0.07,
           -0.12,
           -0.11,
           -0.83,
           -0.06,
           0.14,
           -0.15,
           -0.05,
           0.05,
           0.13,
           0.14,
           1,
           -0.07,
           0.11,
           -0.19
          ],
          [
           -0.05,
           0.24,
           0.31,
           0.19,
           0.12,
           0.16,
           -0.17,
           -0.09,
           0.33,
           0.31,
           0.02,
           0.25,
           -0.22,
           0.07,
           -0.06,
           -0.03,
           0.35,
           0.3,
           -0.07,
           1,
           0.11,
           0.08
          ],
          [
           -0.22,
           -0.13,
           -0.08,
           0.14,
           0.54,
           0.29,
           -0.04,
           -0.06,
           -0.24,
           -0.21,
           -0.07,
           0.19,
           0.5,
           -0.63,
           -0.44,
           -0.12,
           0.54,
           -0.37,
           0.11,
           0.11,
           1,
           -0.21
          ],
          [
           0.11,
           0.07,
           0.05,
           0.19,
           -0.19,
           -0.2,
           0.07,
           0.2,
           0.16,
           0.18,
           0.17,
           -0.32,
           -0.34,
           0.31,
           0.13,
           -0.3,
           0.1,
           -0.1,
           -0.19,
           0.08,
           -0.21,
           1
          ]
         ]
        }
       ],
       "layout": {
        "coloraxis": {
         "colorscale": [
          [
           0,
           "#0d0887"
          ],
          [
           0.1111111111111111,
           "#46039f"
          ],
          [
           0.2222222222222222,
           "#7201a8"
          ],
          [
           0.3333333333333333,
           "#9c179e"
          ],
          [
           0.4444444444444444,
           "#bd3786"
          ],
          [
           0.5555555555555556,
           "#d8576b"
          ],
          [
           0.6666666666666666,
           "#ed7953"
          ],
          [
           0.7777777777777778,
           "#fb9f3a"
          ],
          [
           0.8888888888888888,
           "#fdca26"
          ],
          [
           1,
           "#f0f921"
          ]
         ]
        },
        "margin": {
         "t": 60
        },
        "template": {
         "data": {
          "bar": [
           {
            "error_x": {
             "color": "#2a3f5f"
            },
            "error_y": {
             "color": "#2a3f5f"
            },
            "marker": {
             "line": {
              "color": "#E5ECF6",
              "width": 0.5
             },
             "pattern": {
              "fillmode": "overlay",
              "size": 10,
              "solidity": 0.2
             }
            },
            "type": "bar"
           }
          ],
          "barpolar": [
           {
            "marker": {
             "line": {
              "color": "#E5ECF6",
              "width": 0.5
             },
             "pattern": {
              "fillmode": "overlay",
              "size": 10,
              "solidity": 0.2
             }
            },
            "type": "barpolar"
           }
          ],
          "carpet": [
           {
            "aaxis": {
             "endlinecolor": "#2a3f5f",
             "gridcolor": "white",
             "linecolor": "white",
             "minorgridcolor": "white",
             "startlinecolor": "#2a3f5f"
            },
            "baxis": {
             "endlinecolor": "#2a3f5f",
             "gridcolor": "white",
             "linecolor": "white",
             "minorgridcolor": "white",
             "startlinecolor": "#2a3f5f"
            },
            "type": "carpet"
           }
          ],
          "choropleth": [
           {
            "colorbar": {
             "outlinewidth": 0,
             "ticks": ""
            },
            "type": "choropleth"
           }
          ],
          "contour": [
           {
            "colorbar": {
             "outlinewidth": 0,
             "ticks": ""
            },
            "colorscale": [
             [
              0,
              "#0d0887"
             ],
             [
              0.1111111111111111,
              "#46039f"
             ],
             [
              0.2222222222222222,
              "#7201a8"
             ],
             [
              0.3333333333333333,
              "#9c179e"
             ],
             [
              0.4444444444444444,
              "#bd3786"
             ],
             [
              0.5555555555555556,
              "#d8576b"
             ],
             [
              0.6666666666666666,
              "#ed7953"
             ],
             [
              0.7777777777777778,
              "#fb9f3a"
             ],
             [
              0.8888888888888888,
              "#fdca26"
             ],
             [
              1,
              "#f0f921"
             ]
            ],
            "type": "contour"
           }
          ],
          "contourcarpet": [
           {
            "colorbar": {
             "outlinewidth": 0,
             "ticks": ""
            },
            "type": "contourcarpet"
           }
          ],
          "heatmap": [
           {
            "colorbar": {
             "outlinewidth": 0,
             "ticks": ""
            },
            "colorscale": [
             [
              0,
              "#0d0887"
             ],
             [
              0.1111111111111111,
              "#46039f"
             ],
             [
              0.2222222222222222,
              "#7201a8"
             ],
             [
              0.3333333333333333,
              "#9c179e"
             ],
             [
              0.4444444444444444,
              "#bd3786"
             ],
             [
              0.5555555555555556,
              "#d8576b"
             ],
             [
              0.6666666666666666,
              "#ed7953"
             ],
             [
              0.7777777777777778,
              "#fb9f3a"
             ],
             [
              0.8888888888888888,
              "#fdca26"
             ],
             [
              1,
              "#f0f921"
             ]
            ],
            "type": "heatmap"
           }
          ],
          "heatmapgl": [
           {
            "colorbar": {
             "outlinewidth": 0,
             "ticks": ""
            },
            "colorscale": [
             [
              0,
              "#0d0887"
             ],
             [
              0.1111111111111111,
              "#46039f"
             ],
             [
              0.2222222222222222,
              "#7201a8"
             ],
             [
              0.3333333333333333,
              "#9c179e"
             ],
             [
              0.4444444444444444,
              "#bd3786"
             ],
             [
              0.5555555555555556,
              "#d8576b"
             ],
             [
              0.6666666666666666,
              "#ed7953"
             ],
             [
              0.7777777777777778,
              "#fb9f3a"
             ],
             [
              0.8888888888888888,
              "#fdca26"
             ],
             [
              1,
              "#f0f921"
             ]
            ],
            "type": "heatmapgl"
           }
          ],
          "histogram": [
           {
            "marker": {
             "pattern": {
              "fillmode": "overlay",
              "size": 10,
              "solidity": 0.2
             }
            },
            "type": "histogram"
           }
          ],
          "histogram2d": [
           {
            "colorbar": {
             "outlinewidth": 0,
             "ticks": ""
            },
            "colorscale": [
             [
              0,
              "#0d0887"
             ],
             [
              0.1111111111111111,
              "#46039f"
             ],
             [
              0.2222222222222222,
              "#7201a8"
             ],
             [
              0.3333333333333333,
              "#9c179e"
             ],
             [
              0.4444444444444444,
              "#bd3786"
             ],
             [
              0.5555555555555556,
              "#d8576b"
             ],
             [
              0.6666666666666666,
              "#ed7953"
             ],
             [
              0.7777777777777778,
              "#fb9f3a"
             ],
             [
              0.8888888888888888,
              "#fdca26"
             ],
             [
              1,
              "#f0f921"
             ]
            ],
            "type": "histogram2d"
           }
          ],
          "histogram2dcontour": [
           {
            "colorbar": {
             "outlinewidth": 0,
             "ticks": ""
            },
            "colorscale": [
             [
              0,
              "#0d0887"
             ],
             [
              0.1111111111111111,
              "#46039f"
             ],
             [
              0.2222222222222222,
              "#7201a8"
             ],
             [
              0.3333333333333333,
              "#9c179e"
             ],
             [
              0.4444444444444444,
              "#bd3786"
             ],
             [
              0.5555555555555556,
              "#d8576b"
             ],
             [
              0.6666666666666666,
              "#ed7953"
             ],
             [
              0.7777777777777778,
              "#fb9f3a"
             ],
             [
              0.8888888888888888,
              "#fdca26"
             ],
             [
              1,
              "#f0f921"
             ]
            ],
            "type": "histogram2dcontour"
           }
          ],
          "mesh3d": [
           {
            "colorbar": {
             "outlinewidth": 0,
             "ticks": ""
            },
            "type": "mesh3d"
           }
          ],
          "parcoords": [
           {
            "line": {
             "colorbar": {
              "outlinewidth": 0,
              "ticks": ""
             }
            },
            "type": "parcoords"
           }
          ],
          "pie": [
           {
            "automargin": true,
            "type": "pie"
           }
          ],
          "scatter": [
           {
            "fillpattern": {
             "fillmode": "overlay",
             "size": 10,
             "solidity": 0.2
            },
            "type": "scatter"
           }
          ],
          "scatter3d": [
           {
            "line": {
             "colorbar": {
              "outlinewidth": 0,
              "ticks": ""
             }
            },
            "marker": {
             "colorbar": {
              "outlinewidth": 0,
              "ticks": ""
             }
            },
            "type": "scatter3d"
           }
          ],
          "scattercarpet": [
           {
            "marker": {
             "colorbar": {
              "outlinewidth": 0,
              "ticks": ""
             }
            },
            "type": "scattercarpet"
           }
          ],
          "scattergeo": [
           {
            "marker": {
             "colorbar": {
              "outlinewidth": 0,
              "ticks": ""
             }
            },
            "type": "scattergeo"
           }
          ],
          "scattergl": [
           {
            "marker": {
             "colorbar": {
              "outlinewidth": 0,
              "ticks": ""
             }
            },
            "type": "scattergl"
           }
          ],
          "scattermapbox": [
           {
            "marker": {
             "colorbar": {
              "outlinewidth": 0,
              "ticks": ""
             }
            },
            "type": "scattermapbox"
           }
          ],
          "scatterpolar": [
           {
            "marker": {
             "colorbar": {
              "outlinewidth": 0,
              "ticks": ""
             }
            },
            "type": "scatterpolar"
           }
          ],
          "scatterpolargl": [
           {
            "marker": {
             "colorbar": {
              "outlinewidth": 0,
              "ticks": ""
             }
            },
            "type": "scatterpolargl"
           }
          ],
          "scatterternary": [
           {
            "marker": {
             "colorbar": {
              "outlinewidth": 0,
              "ticks": ""
             }
            },
            "type": "scatterternary"
           }
          ],
          "surface": [
           {
            "colorbar": {
             "outlinewidth": 0,
             "ticks": ""
            },
            "colorscale": [
             [
              0,
              "#0d0887"
             ],
             [
              0.1111111111111111,
              "#46039f"
             ],
             [
              0.2222222222222222,
              "#7201a8"
             ],
             [
              0.3333333333333333,
              "#9c179e"
             ],
             [
              0.4444444444444444,
              "#bd3786"
             ],
             [
              0.5555555555555556,
              "#d8576b"
             ],
             [
              0.6666666666666666,
              "#ed7953"
             ],
             [
              0.7777777777777778,
              "#fb9f3a"
             ],
             [
              0.8888888888888888,
              "#fdca26"
             ],
             [
              1,
              "#f0f921"
             ]
            ],
            "type": "surface"
           }
          ],
          "table": [
           {
            "cells": {
             "fill": {
              "color": "#EBF0F8"
             },
             "line": {
              "color": "white"
             }
            },
            "header": {
             "fill": {
              "color": "#C8D4E3"
             },
             "line": {
              "color": "white"
             }
            },
            "type": "table"
           }
          ]
         },
         "layout": {
          "annotationdefaults": {
           "arrowcolor": "#2a3f5f",
           "arrowhead": 0,
           "arrowwidth": 1
          },
          "autotypenumbers": "strict",
          "coloraxis": {
           "colorbar": {
            "outlinewidth": 0,
            "ticks": ""
           }
          },
          "colorscale": {
           "diverging": [
            [
             0,
             "#8e0152"
            ],
            [
             0.1,
             "#c51b7d"
            ],
            [
             0.2,
             "#de77ae"
            ],
            [
             0.3,
             "#f1b6da"
            ],
            [
             0.4,
             "#fde0ef"
            ],
            [
             0.5,
             "#f7f7f7"
            ],
            [
             0.6,
             "#e6f5d0"
            ],
            [
             0.7,
             "#b8e186"
            ],
            [
             0.8,
             "#7fbc41"
            ],
            [
             0.9,
             "#4d9221"
            ],
            [
             1,
             "#276419"
            ]
           ],
           "sequential": [
            [
             0,
             "#0d0887"
            ],
            [
             0.1111111111111111,
             "#46039f"
            ],
            [
             0.2222222222222222,
             "#7201a8"
            ],
            [
             0.3333333333333333,
             "#9c179e"
            ],
            [
             0.4444444444444444,
             "#bd3786"
            ],
            [
             0.5555555555555556,
             "#d8576b"
            ],
            [
             0.6666666666666666,
             "#ed7953"
            ],
            [
             0.7777777777777778,
             "#fb9f3a"
            ],
            [
             0.8888888888888888,
             "#fdca26"
            ],
            [
             1,
             "#f0f921"
            ]
           ],
           "sequentialminus": [
            [
             0,
             "#0d0887"
            ],
            [
             0.1111111111111111,
             "#46039f"
            ],
            [
             0.2222222222222222,
             "#7201a8"
            ],
            [
             0.3333333333333333,
             "#9c179e"
            ],
            [
             0.4444444444444444,
             "#bd3786"
            ],
            [
             0.5555555555555556,
             "#d8576b"
            ],
            [
             0.6666666666666666,
             "#ed7953"
            ],
            [
             0.7777777777777778,
             "#fb9f3a"
            ],
            [
             0.8888888888888888,
             "#fdca26"
            ],
            [
             1,
             "#f0f921"
            ]
           ]
          },
          "colorway": [
           "#636efa",
           "#EF553B",
           "#00cc96",
           "#ab63fa",
           "#FFA15A",
           "#19d3f3",
           "#FF6692",
           "#B6E880",
           "#FF97FF",
           "#FECB52"
          ],
          "font": {
           "color": "#2a3f5f"
          },
          "geo": {
           "bgcolor": "white",
           "lakecolor": "white",
           "landcolor": "#E5ECF6",
           "showlakes": true,
           "showland": true,
           "subunitcolor": "white"
          },
          "hoverlabel": {
           "align": "left"
          },
          "hovermode": "closest",
          "mapbox": {
           "style": "light"
          },
          "paper_bgcolor": "white",
          "plot_bgcolor": "#E5ECF6",
          "polar": {
           "angularaxis": {
            "gridcolor": "white",
            "linecolor": "white",
            "ticks": ""
           },
           "bgcolor": "#E5ECF6",
           "radialaxis": {
            "gridcolor": "white",
            "linecolor": "white",
            "ticks": ""
           }
          },
          "scene": {
           "xaxis": {
            "backgroundcolor": "#E5ECF6",
            "gridcolor": "white",
            "gridwidth": 2,
            "linecolor": "white",
            "showbackground": true,
            "ticks": "",
            "zerolinecolor": "white"
           },
           "yaxis": {
            "backgroundcolor": "#E5ECF6",
            "gridcolor": "white",
            "gridwidth": 2,
            "linecolor": "white",
            "showbackground": true,
            "ticks": "",
            "zerolinecolor": "white"
           },
           "zaxis": {
            "backgroundcolor": "#E5ECF6",
            "gridcolor": "white",
            "gridwidth": 2,
            "linecolor": "white",
            "showbackground": true,
            "ticks": "",
            "zerolinecolor": "white"
           }
          },
          "shapedefaults": {
           "line": {
            "color": "#2a3f5f"
           }
          },
          "ternary": {
           "aaxis": {
            "gridcolor": "white",
            "linecolor": "white",
            "ticks": ""
           },
           "baxis": {
            "gridcolor": "white",
            "linecolor": "white",
            "ticks": ""
           },
           "bgcolor": "#E5ECF6",
           "caxis": {
            "gridcolor": "white",
            "linecolor": "white",
            "ticks": ""
           }
          },
          "title": {
           "x": 0.05
          },
          "xaxis": {
           "automargin": true,
           "gridcolor": "white",
           "linecolor": "white",
           "ticks": "",
           "title": {
            "standoff": 15
           },
           "zerolinecolor": "white",
           "zerolinewidth": 2
          },
          "yaxis": {
           "automargin": true,
           "gridcolor": "white",
           "linecolor": "white",
           "ticks": "",
           "title": {
            "standoff": 15
           },
           "zerolinecolor": "white",
           "zerolinewidth": 2
          }
         }
        },
        "xaxis": {
         "anchor": "y",
         "constrain": "domain",
         "domain": [
          0,
          1
         ],
         "scaleanchor": "y"
        },
        "yaxis": {
         "anchor": "x",
         "autorange": "reversed",
         "constrain": "domain",
         "domain": [
          0,
          1
         ]
        }
       }
      }
     },
     "metadata": {},
     "output_type": "display_data"
    }
   ],
   "source": [
    "show_correlation(normal_df)"
   ]
  },
  {
   "cell_type": "markdown",
   "metadata": {},
   "source": [
    "Nothing significant happened\n",
    "\n",
    "Now create new model"
   ]
  },
  {
   "cell_type": "code",
   "execution_count": 18,
   "metadata": {},
   "outputs": [],
   "source": [
    "X_train, X_test, y_train, y_test = train_test_split(normal_df, y, test_size=0.20, random_state=17)"
   ]
  },
  {
   "cell_type": "code",
   "execution_count": 19,
   "metadata": {},
   "outputs": [
    {
     "name": "stdout",
     "output_type": "stream",
     "text": [
      "RidgeClassifier()\n",
      "Train_MAPE: 0.0\n",
      "Train classification_report:\n",
      "               precision    recall  f1-score   support\n",
      "\n",
      "    Poisoned       1.00      1.00      1.00      3117\n",
      "      Edible       1.00      1.00      1.00      3382\n",
      "\n",
      "    accuracy                           1.00      6499\n",
      "   macro avg       1.00      1.00      1.00      6499\n",
      "weighted avg       1.00      1.00      1.00      6499\n",
      "\n",
      "RidgeClassifier()\n",
      "Test_MAPE: 0.0\n",
      "Test classification_report:\n",
      "               precision    recall  f1-score   support\n",
      "\n",
      "    Poisoned       1.00      1.00      1.00       799\n",
      "      Edible       1.00      1.00      1.00       826\n",
      "\n",
      "    accuracy                           1.00      1625\n",
      "   macro avg       1.00      1.00      1.00      1625\n",
      "weighted avg       1.00      1.00      1.00      1625\n",
      "\n",
      "------------ ----------------- -------------\n"
     ]
    }
   ],
   "source": [
    "RC_model = RidgeClassifier() \n",
    "SVCl_model =  SVC(kernel=\"linear\", C=0.025, random_state=17)\n",
    "DTC_model  =  DecisionTreeClassifier(max_depth=5, random_state=17)\n",
    "SVCg_model =  SVC(gamma=2, C=1, random_state=17)\n",
    "\n",
    "def run_model_and_print_score():\n",
    "    submission_pred = create_model(X_train, y_train, X_train,RC_model)\n",
    "    print('Train_MAPE:', mean_absolute_percentage_error(y_train, submission_pred))\n",
    "    print(\"Train classification_report:\\n\", classification_report(y_train, submission_pred,target_names=[\"Poisoned\",\"Edible\"]))\n",
    "    submission_pred = create_model(X_train, y_train, X_test,RC_model)\n",
    "    print('Test_MAPE:', mean_absolute_percentage_error(y_test, submission_pred))\n",
    "    print(\"Test classification_report:\\n\", classification_report(y_test, submission_pred,target_names=[\"Poisoned\",\"Edible\"]))\n",
    "    print(\"------------ ----------------- -------------\")\n",
    "\n",
    "    # submission_pred = create_model(X_train, y_train, X_train,SVCl_model)\n",
    "    # print('Train_MAPE:', mean_absolute_percentage_error(y_train, submission_pred))\n",
    "    # print(\"Train classification_report:\\n\", classification_report(y_train, submission_pred,target_names=[\"Poisoned\",\"Edible\"]))\n",
    "    # submission_pred = create_model(X_train, y_train, X_test,SVCl_model)\n",
    "    # print('Test_MAPE:', mean_absolute_percentage_error(y_test, submission_pred))\n",
    "    # print(\"Test classification_report:\\n\", classification_report(y_test, submission_pred,target_names=[\"Poisoned\",\"Edible\"]))\n",
    "    # print(\"------------ ----------------- -------------\")\n",
    "\n",
    "    # submission_pred = create_model(X_train, y_train, X_train,DTC_model)\n",
    "    # print('Train_MAPE:', mean_absolute_percentage_error(y_train, submission_pred))\n",
    "    # print(\"Train classification_report:\\n\", classification_report(y_train, submission_pred,target_names=[\"Poisoned\",\"Edible\"]))\n",
    "    # submission_pred = create_model(X_train, y_train, X_test,DTC_model)\n",
    "    # print('Test_MAPE:', mean_absolute_percentage_error(y_test, submission_pred))\n",
    "    # print(\"Test classification_report:\\n\", classification_report(y_test, submission_pred,target_names=[\"Poisoned\",\"Edible\"]))\n",
    "    # print(\"------------ ----------------- -------------\")\n",
    "\n",
    "\n",
    "    # submission_pred = create_model(X_train, y_train, X_train,SVCg_model)\n",
    "    # print('Train_MAPE:', mean_absolute_percentage_error(y_train, submission_pred))\n",
    "    # print(\"Train classification_report:\\n\", classification_report(y_train, submission_pred,target_names=[\"Poisoned\",\"Edible\"]))\n",
    "\n",
    "    # submission_pred = create_model(X_train, y_train, X_test,SVCg_model)\n",
    "    # print('Test_MAPE:', mean_absolute_percentage_error(y_test, submission_pred))\n",
    "    # print(\"Test classification_report:\\n\", classification_report(y_test, submission_pred,target_names=[\"Poisoned\",\"Edible\"]))\n",
    "    # print(\"------------ ----------------- -------------\")\n",
    "\n",
    "run_model_and_print_score()"
   ]
  },
  {
   "cell_type": "markdown",
   "metadata": {},
   "source": [
    "Wooou all models relearned or find excelent. Unexpected.<br>\n",
    "We need to lower the sensitivity of g-parametrs for base data and for normalized data and look at the result.\n",
    "\n",
    "We will select the parameters manually because we work in the beginner category"
   ]
  },
  {
   "cell_type": "code",
   "execution_count": 29,
   "metadata": {},
   "outputs": [
    {
     "name": "stdout",
     "output_type": "stream",
     "text": [
      "RidgeClassifier(alpha=1)\n",
      "Train_MAPE: 0.0\n",
      "Train classification_report:\n",
      "               precision    recall  f1-score   support\n",
      "\n",
      "    Poisoned       1.00      1.00      1.00      3117\n",
      "      Edible       1.00      1.00      1.00      3382\n",
      "\n",
      "    accuracy                           1.00      6499\n",
      "   macro avg       1.00      1.00      1.00      6499\n",
      "weighted avg       1.00      1.00      1.00      6499\n",
      "\n",
      "RidgeClassifier(alpha=1)\n",
      "Test_MAPE: 0.0\n",
      "Test classification_report:\n",
      "               precision    recall  f1-score   support\n",
      "\n",
      "    Poisoned       1.00      1.00      1.00       799\n",
      "      Edible       1.00      1.00      1.00       826\n",
      "\n",
      "    accuracy                           1.00      1625\n",
      "   macro avg       1.00      1.00      1.00      1625\n",
      "weighted avg       1.00      1.00      1.00      1625\n",
      "\n",
      "------------ ----------------- -------------\n"
     ]
    }
   ],
   "source": [
    "RC_model = RidgeClassifier(alpha=1) \n",
    "SVCl_model =  SVC(kernel=\"linear\", C=0.0004, random_state=17)\n",
    "DTC_model  =  DecisionTreeClassifier(max_depth=1, max_leaf_nodes=4,criterion=\"entropy\",random_state=17)\n",
    "SVCg_model =  SVC(gamma=2, C=0.006, random_state=17)\n",
    "\n",
    "run_model_and_print_score()\n",
    "\n",
    "\n"
   ]
  },
  {
   "cell_type": "markdown",
   "metadata": {},
   "source": [
    "For 2 SVC models I was able to select parameters manually, but  Tree and this was not possible.\n",
    "For RidgeClassifier it's difficult too, better to iterate with function, but we will do this in the future not now.\n",
    "\n",
    "Now we can stop mashrum porject i think\n",
    "and may chosee one of SVC model"
   ]
  }
 ],
 "metadata": {
  "kernelspec": {
   "display_name": "Python 3",
   "language": "python",
   "name": "python3"
  },
  "language_info": {
   "codemirror_mode": {
    "name": "ipython",
    "version": 3
   },
   "file_extension": ".py",
   "mimetype": "text/x-python",
   "name": "python",
   "nbconvert_exporter": "python",
   "pygments_lexer": "ipython3",
   "version": "3.11.4"
  }
 },
 "nbformat": 4,
 "nbformat_minor": 2
}
