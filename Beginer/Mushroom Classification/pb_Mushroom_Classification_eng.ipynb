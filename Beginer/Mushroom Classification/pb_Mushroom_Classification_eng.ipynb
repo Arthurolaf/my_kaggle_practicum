{
 "cells": [
  {
   "cell_type": "markdown",
   "metadata": {},
   "source": [
    "This is beginer level second exercise or task.\n",
    "\n",
    "#### condition: \n",
    "1) Make all Inspiration, now we must use more then one ML model.(above 2 or 4 if passable)\n",
    "2) Try to comply with PEP8\n",
    "\n",
    "#### Context\n",
    "Although this dataset was originally contributed to the UCI Machine Learning repository nearly 30 years ago, mushroom hunting (otherwise known as \"shrooming\") is enjoying new peaks in popularity. Learn which features spell certain death and which are most palatable in this dataset of mushroom characteristics. And how certain can your model be?\n",
    "\n",
    "#### GOAL:  \n",
    "* Classify iris plants into three species in this classic dataset\n",
    "\n",
    "#### Inspiration\n",
    "* What types of machine learning models perform best on this dataset?\n",
    "* Which features are most indicative of a poisonous mushroom?\n",
    "\n",
    "exercise source <a href> https://www.kaggle.com/datasets/uciml/mushroom-classification </a>"
   ]
  },
  {
   "cell_type": "markdown",
   "metadata": {},
   "source": [
    "import modules from first exercise.\n",
    "And will replenish as necessary"
   ]
  },
  {
   "cell_type": "code",
   "execution_count": null,
   "metadata": {},
   "outputs": [],
   "source": [
    "import pandas as pd\n",
    "\n",
    "import plotly.express as px\n",
    "import matplotlib.pyplot as plt \n",
    "import seaborn as sns\n",
    "\n",
    "from sklearn.model_selection import train_test_split\n",
    "from sklearn.linear_model import RidgeClassifier\n",
    "from sklearn.metrics import accuracy_score\n",
    "from sklearn.metrics import f1_score\n",
    "from sklearn.metrics import classification_report\n",
    "\n",
    "\n",
    "from sklearn.ensemble import RandomForestRegressor "
   ]
  },
  {
   "cell_type": "markdown",
   "metadata": {},
   "source": []
  }
 ],
 "metadata": {
  "language_info": {
   "name": "python"
  }
 },
 "nbformat": 4,
 "nbformat_minor": 2
}
